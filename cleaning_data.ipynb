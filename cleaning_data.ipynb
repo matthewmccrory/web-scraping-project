{
 "cells": [
  {
   "cell_type": "code",
   "execution_count": 179,
   "metadata": {
    "collapsed": true,
    "ExecuteTime": {
     "end_time": "2023-11-29T11:48:43.597221Z",
     "start_time": "2023-11-29T11:48:43.578577100Z"
    }
   },
   "outputs": [],
   "source": [
    "import pandas as pd\n",
    "import numpy as np\n",
    "import re"
   ]
  },
  {
   "cell_type": "code",
   "execution_count": 180,
   "outputs": [
    {
     "data": {
      "text/plain": "   Size Open Viewing   Lot Bathrooms  Time  Postcode Heating    Status  \\\n0  None         None  None         2  None   BT8 8FX    None      None   \n1  None         None  None         1  None   BT7 3DQ     Gas      None   \n2  None         None  None         2  None   BT8 6GY     Gas  For sale   \n3  None         None  None      None  None   BT7 3JH     Gas      None   \n4  None         None  None         4  None   BT8 8LN    None      None   \n\n  Bedrooms    Rates Receptions Broadband  Price (£) Venue Postcode_number  \\\n0        4  1652.05          2   900Mbps   335000.0  None             BT8   \n1        1   826.03          1   900Mbps   129950.0  None             BT7   \n2        4  1296.73          1   900Mbps   239950.0  None             BT8   \n3        3  1391.20          1    80Mbps   219950.0  None             BT7   \n4        6     None          3      None   675000.0  None             BT8   \n\n                               Address                Style  \\\n0                     5 Haddo Crescent            Townhouse   \n1                     5 Annadale Green            Apartment   \n2                    11 Finsbury Drive  Semi-detached House   \n3  Apt 13 Anna Hill, 2 Annadale Avenue            Apartment   \n4                        103 Fort Road       Detached House   \n\n                         Estate Agent Belfast District  \n0  Ulster Property Sales (Forestside)            South  \n1                Nicholas Residential            South  \n2                James Duggan Estates            South  \n3   Templeton Robinson (Lisburn Road)            South  \n4  Fetherstons (South Belfast Office)            South  ",
      "text/html": "<div>\n<style scoped>\n    .dataframe tbody tr th:only-of-type {\n        vertical-align: middle;\n    }\n\n    .dataframe tbody tr th {\n        vertical-align: top;\n    }\n\n    .dataframe thead th {\n        text-align: right;\n    }\n</style>\n<table border=\"1\" class=\"dataframe\">\n  <thead>\n    <tr style=\"text-align: right;\">\n      <th></th>\n      <th>Size</th>\n      <th>Open Viewing</th>\n      <th>Lot</th>\n      <th>Bathrooms</th>\n      <th>Time</th>\n      <th>Postcode</th>\n      <th>Heating</th>\n      <th>Status</th>\n      <th>Bedrooms</th>\n      <th>Rates</th>\n      <th>Receptions</th>\n      <th>Broadband</th>\n      <th>Price (£)</th>\n      <th>Venue</th>\n      <th>Postcode_number</th>\n      <th>Address</th>\n      <th>Style</th>\n      <th>Estate Agent</th>\n      <th>Belfast District</th>\n    </tr>\n  </thead>\n  <tbody>\n    <tr>\n      <th>0</th>\n      <td>None</td>\n      <td>None</td>\n      <td>None</td>\n      <td>2</td>\n      <td>None</td>\n      <td>BT8 8FX</td>\n      <td>None</td>\n      <td>None</td>\n      <td>4</td>\n      <td>1652.05</td>\n      <td>2</td>\n      <td>900Mbps</td>\n      <td>335000.0</td>\n      <td>None</td>\n      <td>BT8</td>\n      <td>5 Haddo Crescent</td>\n      <td>Townhouse</td>\n      <td>Ulster Property Sales (Forestside)</td>\n      <td>South</td>\n    </tr>\n    <tr>\n      <th>1</th>\n      <td>None</td>\n      <td>None</td>\n      <td>None</td>\n      <td>1</td>\n      <td>None</td>\n      <td>BT7 3DQ</td>\n      <td>Gas</td>\n      <td>None</td>\n      <td>1</td>\n      <td>826.03</td>\n      <td>1</td>\n      <td>900Mbps</td>\n      <td>129950.0</td>\n      <td>None</td>\n      <td>BT7</td>\n      <td>5 Annadale Green</td>\n      <td>Apartment</td>\n      <td>Nicholas Residential</td>\n      <td>South</td>\n    </tr>\n    <tr>\n      <th>2</th>\n      <td>None</td>\n      <td>None</td>\n      <td>None</td>\n      <td>2</td>\n      <td>None</td>\n      <td>BT8 6GY</td>\n      <td>Gas</td>\n      <td>For sale</td>\n      <td>4</td>\n      <td>1296.73</td>\n      <td>1</td>\n      <td>900Mbps</td>\n      <td>239950.0</td>\n      <td>None</td>\n      <td>BT8</td>\n      <td>11 Finsbury Drive</td>\n      <td>Semi-detached House</td>\n      <td>James Duggan Estates</td>\n      <td>South</td>\n    </tr>\n    <tr>\n      <th>3</th>\n      <td>None</td>\n      <td>None</td>\n      <td>None</td>\n      <td>None</td>\n      <td>None</td>\n      <td>BT7 3JH</td>\n      <td>Gas</td>\n      <td>None</td>\n      <td>3</td>\n      <td>1391.20</td>\n      <td>1</td>\n      <td>80Mbps</td>\n      <td>219950.0</td>\n      <td>None</td>\n      <td>BT7</td>\n      <td>Apt 13 Anna Hill, 2 Annadale Avenue</td>\n      <td>Apartment</td>\n      <td>Templeton Robinson (Lisburn Road)</td>\n      <td>South</td>\n    </tr>\n    <tr>\n      <th>4</th>\n      <td>None</td>\n      <td>None</td>\n      <td>None</td>\n      <td>4</td>\n      <td>None</td>\n      <td>BT8 8LN</td>\n      <td>None</td>\n      <td>None</td>\n      <td>6</td>\n      <td>None</td>\n      <td>3</td>\n      <td>None</td>\n      <td>675000.0</td>\n      <td>None</td>\n      <td>BT8</td>\n      <td>103 Fort Road</td>\n      <td>Detached House</td>\n      <td>Fetherstons (South Belfast Office)</td>\n      <td>South</td>\n    </tr>\n  </tbody>\n</table>\n</div>"
     },
     "execution_count": 180,
     "metadata": {},
     "output_type": "execute_result"
    }
   ],
   "source": [
    "# loading in data\n",
    "df = pd.read_parquet('final_df.parquet')\n",
    "\n",
    "# inspecting data\n",
    "df.head()"
   ],
   "metadata": {
    "collapsed": false,
    "ExecuteTime": {
     "end_time": "2023-11-29T11:48:44.138619Z",
     "start_time": "2023-11-29T11:48:44.083794500Z"
    }
   }
  },
  {
   "cell_type": "markdown",
   "source": [
    "# After initial inspection we can see that there are several columns that will not add anything to our analysis so we will get rid of them. Additionally, there are columns where the values will need to be cleaned and null values addressed."
   ],
   "metadata": {
    "collapsed": false
   }
  },
  {
   "cell_type": "code",
   "execution_count": 181,
   "outputs": [],
   "source": [
    "# Dropping columns we don't need\n",
    "df = df.drop(columns=['Size', 'Open Viewing', 'Lot', 'Time', 'Status', 'Venue', 'Heating', 'Broadband'])\n",
    "\n",
    "# Removing the leading white space from the Postcode column\n",
    "df['Postcode'] = df['Postcode'].apply(lambda x: x.lstrip() if pd.notna(x) else x)"
   ],
   "metadata": {
    "collapsed": false,
    "ExecuteTime": {
     "end_time": "2023-11-29T11:48:45.324718400Z",
     "start_time": "2023-11-29T11:48:45.262155200Z"
    }
   }
  },
  {
   "cell_type": "markdown",
   "source": [
    "# It appears we have pulled in 'Belfast' in the postcode column, which clearly shouldn't be there. Rather than discarding these values I can see that the vast majority are in 'The Hamptons' and the 'Orchard Hall Apartments' thus I should be able to find a postcode for these properties and update the dataset."
   ],
   "metadata": {
    "collapsed": false
   }
  },
  {
   "cell_type": "code",
   "execution_count": 182,
   "outputs": [],
   "source": [
    "# Updating postcode numbers\n",
    "\n",
    "df['Postcode_number'] = np.where(df['Address'].str.contains('The Hamptons'), 'BT7', df['Postcode_number'])\n",
    "df['Postcode_number'] = np.where(df['Address'].str.contains('Orchard Hall'), 'BT4', df['Postcode_number'])\n",
    "df['Postcode_number'] = np.where(df['Address'].str.contains('The Admin Building'), 'BT8', df['Postcode_number'])\n",
    "df['Postcode_number'] = np.where(df['Address'].str.contains('Lesley Park Demesne'), 'BT9', df['Postcode_number'])"
   ],
   "metadata": {
    "collapsed": false,
    "ExecuteTime": {
     "end_time": "2023-11-29T11:48:45.870018400Z",
     "start_time": "2023-11-29T11:48:45.827097600Z"
    }
   }
  },
  {
   "cell_type": "code",
   "execution_count": 183,
   "outputs": [
    {
     "data": {
      "text/plain": "     Bathrooms             Postcode Bedrooms Rates Receptions  Price (£)  \\\n16           3              Belfast        5  None          2   499950.0   \n585       None              Belfast        4  None          1        NaN   \n603          2              Belfast        4  None          2   695000.0   \n617          2  Belfast City Centre        2  None          1   225000.0   \n889          3              Belfast        4  None          2   565000.0   \n932          1  Belfast City Centre        1  None          1   165000.0   \n1023         2              Belfast        2  None          1        NaN   \n\n     Postcode_number                                    Address  \\\n16           Belfast                      The Bracken, Ferndene   \n585          Belfast  The Willow, House Type S, Castlehill Wood   \n603          Belfast                      Phase 2, Madigan Hill   \n617          Belfast  Two Bedrooms, Coyles Place At Portland 88   \n889          Belfast                  The Pottinger, Baron Lane   \n932          Belfast   One Bedroom, Coyles Place At Portland 88   \n1023         Belfast        2 Bedroom Apartment, 100 Kings Road   \n\n                    Style                            Estate Agent  \\\n16         Detached House  Simon Brien Residential (East Belfast)   \n585   Semi-detached House  Simon Brien Residential (East Belfast)   \n603        Detached House             Marketed by multiple agents   \n617            Apartments                      Colliers New Homes   \n889        Detached House                      Colliers New Homes   \n932             Apartment                      Colliers New Homes   \n1023            Apartment             Marketed by multiple agents   \n\n     Belfast District  \n16               None  \n585              None  \n603              None  \n617              None  \n889              None  \n932              None  \n1023             None  ",
      "text/html": "<div>\n<style scoped>\n    .dataframe tbody tr th:only-of-type {\n        vertical-align: middle;\n    }\n\n    .dataframe tbody tr th {\n        vertical-align: top;\n    }\n\n    .dataframe thead th {\n        text-align: right;\n    }\n</style>\n<table border=\"1\" class=\"dataframe\">\n  <thead>\n    <tr style=\"text-align: right;\">\n      <th></th>\n      <th>Bathrooms</th>\n      <th>Postcode</th>\n      <th>Bedrooms</th>\n      <th>Rates</th>\n      <th>Receptions</th>\n      <th>Price (£)</th>\n      <th>Postcode_number</th>\n      <th>Address</th>\n      <th>Style</th>\n      <th>Estate Agent</th>\n      <th>Belfast District</th>\n    </tr>\n  </thead>\n  <tbody>\n    <tr>\n      <th>16</th>\n      <td>3</td>\n      <td>Belfast</td>\n      <td>5</td>\n      <td>None</td>\n      <td>2</td>\n      <td>499950.0</td>\n      <td>Belfast</td>\n      <td>The Bracken, Ferndene</td>\n      <td>Detached House</td>\n      <td>Simon Brien Residential (East Belfast)</td>\n      <td>None</td>\n    </tr>\n    <tr>\n      <th>585</th>\n      <td>None</td>\n      <td>Belfast</td>\n      <td>4</td>\n      <td>None</td>\n      <td>1</td>\n      <td>NaN</td>\n      <td>Belfast</td>\n      <td>The Willow, House Type S, Castlehill Wood</td>\n      <td>Semi-detached House</td>\n      <td>Simon Brien Residential (East Belfast)</td>\n      <td>None</td>\n    </tr>\n    <tr>\n      <th>603</th>\n      <td>2</td>\n      <td>Belfast</td>\n      <td>4</td>\n      <td>None</td>\n      <td>2</td>\n      <td>695000.0</td>\n      <td>Belfast</td>\n      <td>Phase 2, Madigan Hill</td>\n      <td>Detached House</td>\n      <td>Marketed by multiple agents</td>\n      <td>None</td>\n    </tr>\n    <tr>\n      <th>617</th>\n      <td>2</td>\n      <td>Belfast City Centre</td>\n      <td>2</td>\n      <td>None</td>\n      <td>1</td>\n      <td>225000.0</td>\n      <td>Belfast</td>\n      <td>Two Bedrooms, Coyles Place At Portland 88</td>\n      <td>Apartments</td>\n      <td>Colliers New Homes</td>\n      <td>None</td>\n    </tr>\n    <tr>\n      <th>889</th>\n      <td>3</td>\n      <td>Belfast</td>\n      <td>4</td>\n      <td>None</td>\n      <td>2</td>\n      <td>565000.0</td>\n      <td>Belfast</td>\n      <td>The Pottinger, Baron Lane</td>\n      <td>Detached House</td>\n      <td>Colliers New Homes</td>\n      <td>None</td>\n    </tr>\n    <tr>\n      <th>932</th>\n      <td>1</td>\n      <td>Belfast City Centre</td>\n      <td>1</td>\n      <td>None</td>\n      <td>1</td>\n      <td>165000.0</td>\n      <td>Belfast</td>\n      <td>One Bedroom, Coyles Place At Portland 88</td>\n      <td>Apartment</td>\n      <td>Colliers New Homes</td>\n      <td>None</td>\n    </tr>\n    <tr>\n      <th>1023</th>\n      <td>2</td>\n      <td>Belfast</td>\n      <td>2</td>\n      <td>None</td>\n      <td>1</td>\n      <td>NaN</td>\n      <td>Belfast</td>\n      <td>2 Bedroom Apartment, 100 Kings Road</td>\n      <td>Apartment</td>\n      <td>Marketed by multiple agents</td>\n      <td>None</td>\n    </tr>\n  </tbody>\n</table>\n</div>"
     },
     "execution_count": 183,
     "metadata": {},
     "output_type": "execute_result"
    }
   ],
   "source": [
    "# Now we will check to see how many postcodes say 'Belfast'\n",
    "df.loc[df['Postcode_number'] == 'Belfast']"
   ],
   "metadata": {
    "collapsed": false,
    "ExecuteTime": {
     "end_time": "2023-11-29T11:48:46.180273700Z",
     "start_time": "2023-11-29T11:48:46.095638700Z"
    }
   }
  },
  {
   "cell_type": "markdown",
   "source": [
    "# It would be possible to get a postcode for the remaining 7 properties by searching each individual address, instead, in the interest of time we will remove these properties from the dataset."
   ],
   "metadata": {
    "collapsed": false
   }
  },
  {
   "cell_type": "code",
   "execution_count": 184,
   "outputs": [
    {
     "data": {
      "text/plain": "array(['Ulster Property Sales (Forestside)', 'Nicholas Residential',\n       'James Duggan Estates', 'Templeton Robinson (Lisburn Road)',\n       'Fetherstons (South Belfast Office)',\n       'Fetherstons (East Belfast Office)',\n       'Ulster Property Sales (Andersonstown)', 'CPS (Belfast)',\n       'Reeds Rains (Glengormley)', 'NorthernProperty.com (Residential)',\n       'McClearys Property Sales', 'Andrews & Gregg (Dundonald)',\n       'Simon Brien Residential (East Belfast)',\n       'Ulster Property Sales (Cavehill)', 'Dougan Residential',\n       'Property People', 'Macfarlane & Smyth',\n       'John Minnis Estate Agents',\n       'Michael Chandler Estate Agents (Belfast)', 'Pinpoint Property',\n       'Privilege Properties', 'GOC Estate Agents',\n       'Forsythe Residential', 'M&H Property Rentals & Management',\n       'TMC Estate Agents (Andersonstown)',\n       'Cairns & Downing Sales and Lettings', 'BRG Gibson Auctions',\n       'Natalie Clarke Residential', 'Rodgers Residential',\n       'Ulster Property Sales (Ballyhackamore)',\n       'Abbey Real Estate (Ballyclare)',\n       'Templeton Robinson (Ballyhackamore)',\n       'Simon Brien Residential (South Belfast)', 'Eastwood Agents LTD',\n       'Watson Property', 'McGranaghan Estate Agents.com',\n       'Pooler Estate Agents', 'Reeds Rains (Ballyhackamore)',\n       'Ulster Property Sales (Lisburn Road)',\n       'Simon Brien Residential (Lisburn Road)', 'Hampton Estates',\n       'Rea Estates', 'TMC Estate Agents (Finaghy)',\n       'Anthony Jamieson Estate Agents', 'Shanks Estate Agents.com',\n       'Tim Martin & Co (Saintfield Office)', 'Reeds Rains (Ormeau)',\n       'Property Link (Belfast)', 'Colliers New Homes',\n       'McGuinness Fleck', 'House To Home Estate Agents',\n       'Cowley Property (Cregagh)', 'McGeown Estate Agents', 'AMPMni',\n       'Wilsons Auctions (NI)', 'Kitson Residential',\n       'McMillan McClure Estate Agents', 'AS Residential',\n       'NorthernProperty.com (Commercial & Investments)',\n       'Zenith Residential', 'Campbell & Co (Belfast)',\n       '360 Residential Ltd', 'Thomas Orr Limited',\n       'Property Sales & Lettings NI Ltd', 'Jackson & Son Estates Ltd',\n       'Neill Estate Agents', 'Bill McCann Estate Agency',\n       'Theresa Dunlop Properties LTD', 'Karl Bennett & Co',\n       'HMK Property', 'Iamsold NI', 'Marketed by multiple agents',\n       'Tim Martin & Co (Comber Office)', 'Lindsay Fyfe & Co',\n       'Your Property Geeks', 'Winton & Co', 'McClelland Salter',\n       'Templeton Robinson (Lisburn)', 'Colin Graham Residential',\n       'Redian Real Estate (Belfast)', 'Vision Property NI',\n       'Alan Newell Estate Agents & Valuers',\n       'Country Estates (Glengormley)',\n       'Robert Wilson Estate Agents (Dunmurry)',\n       'Henry Graham Estate Agents', 'A Barton Company Estate Agents',\n       'PurpleBricks Group PLC', 'Baird Real Estate',\n       'Templeton Robinson (North Down)', 'Belvoir Lisburn',\n       'McQuoids Estate Agents', 'Bennett Estate Agents',\n       'Quinn Estate Agents', 'Reeds Rains (Newtownards)',\n       'Rodgers & Browne', 'Belvoir (Belfast South)', 'LJ Rentals',\n       'Shooter Property Services (Lisburn)', 'Carolyn Edgar Homes',\n       'Outstanding Estate Agents', 'Burbridge DuCann LLP',\n       'Mark Maguire & Co', 'Michael Chandler Estate Agents (North Down)',\n       'WeLet-WeSell', 'Agar Murdoch & Deane Limited', 'Cairns & Co',\n       'Key One Property', 'Douglas Huston Estate Agents',\n       'Norman Morrow & Co', 'Gareth Mills Estate Agents', 'Osborne King',\n       'Stewart Estate Agents', 'Adam Annett & Son',\n       'Hunter Campbell Estate Agents (Carrickfergus)', 'Whelans',\n       'Riddell McKibbin Limited', 'Select Letting Agency Ltd',\n       'Taylor Patterson Estate Agents'], dtype=object)"
     },
     "execution_count": 184,
     "metadata": {},
     "output_type": "execute_result"
    }
   ],
   "source": [
    "df['Estate Agent'].unique()"
   ],
   "metadata": {
    "collapsed": false,
    "ExecuteTime": {
     "end_time": "2023-11-29T11:48:46.921710Z",
     "start_time": "2023-11-29T11:48:46.876057600Z"
    }
   }
  },
  {
   "cell_type": "markdown",
   "source": [
    "# It would be interesting to compare how each estate agent is performing amongst one another so I will remove the office in parentheses e.g (Andersontown)."
   ],
   "metadata": {
    "collapsed": false
   }
  },
  {
   "cell_type": "code",
   "execution_count": 185,
   "outputs": [],
   "source": [
    "# Function to remove parentheses from estate agent\n",
    "def remove_parentheses(row):\n",
    "    return re.sub(r'\\([^)]*\\)', '', row)\n",
    "\n",
    "df['Estate Agent'] = df['Estate Agent'].apply(lambda x: remove_parentheses(x) if pd.notna(x) else x)"
   ],
   "metadata": {
    "collapsed": false,
    "ExecuteTime": {
     "end_time": "2023-11-29T11:48:47.530635900Z",
     "start_time": "2023-11-29T11:48:47.510925Z"
    }
   }
  },
  {
   "cell_type": "code",
   "execution_count": 186,
   "outputs": [
    {
     "data": {
      "text/plain": "array(['Townhouse', 'Apartment', 'Semi-detached House', 'Detached House',\n       'Terrace House', 'Semi-detached Bungalow', 'End Townhouse',\n       'Mid-terrace House', '3rd Floor Apartment', 'Detached Villa',\n       'End-terrace House', 'House', 'Detached Bungalow',\n       'Ground Floor Apartment', 'Mid Townhouse', 'Apartments',\n       'Extended Mid-terrace', 'Semi-detached Villa', 'Duplex Apartment',\n       'Penthouse Apartment', '1st Floor Apartment', 'Ground Floor Flat',\n       'Detached Chalet', 'Apartment / Flat', 'Bungalow',\n       '2nd Floor Apartment', 'Semi-detached Chalet',\n       'Link-detached house', 'Detached Duplex Bungalow',\n       'Detached with annex', 'Detached Chalet Bungalow',\n       'House and Land', 'Semi-detached Chalet Bungalow', 'Duplex Flat',\n       'Flat'], dtype=object)"
     },
     "execution_count": 186,
     "metadata": {},
     "output_type": "execute_result"
    }
   ],
   "source": [
    "# Inspecting different property styles\n",
    "df['Style'].unique()"
   ],
   "metadata": {
    "collapsed": false,
    "ExecuteTime": {
     "end_time": "2023-11-29T11:48:47.890370100Z",
     "start_time": "2023-11-29T11:48:47.869962800Z"
    }
   }
  },
  {
   "cell_type": "markdown",
   "source": [
    "# After inspection, we can see that there are 35 different property styles in the dataset, this is far too many. For the sake of our analysis we would like to get this number down as a low as possible. To do this we will use the replace method available on strings to search for certain keywords, for example, the first line of code that follows searches for anything that starts or ends with the words 'flat' or 'apartment' and converts the value to just say 'Apartment'. This allows each style to be correctly grouped together within one style rather than existing across multiple styles for the sake of a few words. A similar approach is taken to other styles including: Detached, Semi-detached, Townhouse, Bungalow and Terrace."
   ],
   "metadata": {
    "collapsed": false
   }
  },
  {
   "cell_type": "code",
   "execution_count": 187,
   "outputs": [],
   "source": [
    "# Cleaning up styles\n",
    "df['Style'] = df['Style'].str.replace(r'.*(flat|apartment).*', 'Apartment', case=False, regex=True)\n",
    "df['Style'] = df['Style'].str.replace(r'.*(link|semi-detached).*', 'Semi-detached House', case=False, regex=True)\n",
    "df['Style'] = df['Style'].str.replace(r'.*(terrace).*', 'Terrace House', case=False, regex=True)\n",
    "df['Style'] = df['Style'].str.replace(r'.*(townhouse).*', 'Townhouse', case=False, regex=True)\n",
    "df['Style'] = df['Style'].str.replace(r'.*(bungalow).*', 'Bungalow', case=False, regex=True)\n",
    "df['Style'] = df['Style'].apply(lambda x: x.replace(x, 'Detached House') if x in ['Detached Villa', 'Detached Chalet', 'Detached with annex'] else x)\n",
    "\n",
    "# Finally because 'House' and 'House and Land' don't add to our analysis we will remove them from the dataset.\n",
    "styles_to_remove = ['House','House and Land']\n",
    "df = df[~df['Style'].isin(styles_to_remove)]"
   ],
   "metadata": {
    "collapsed": false,
    "ExecuteTime": {
     "end_time": "2023-11-29T11:48:48.376350100Z",
     "start_time": "2023-11-29T11:48:48.316512400Z"
    }
   }
  },
  {
   "cell_type": "code",
   "execution_count": 188,
   "outputs": [
    {
     "data": {
      "text/plain": "array(['Townhouse', 'Apartment', 'Semi-detached House', 'Detached House',\n       'Terrace House', 'Bungalow'], dtype=object)"
     },
     "execution_count": 188,
     "metadata": {},
     "output_type": "execute_result"
    }
   ],
   "source": [
    "df['Style'].unique()"
   ],
   "metadata": {
    "collapsed": false,
    "ExecuteTime": {
     "end_time": "2023-11-29T11:48:48.687333600Z",
     "start_time": "2023-11-29T11:48:48.626810800Z"
    }
   }
  },
  {
   "cell_type": "markdown",
   "source": [
    "# We now have a manageable number of property styles that we will use in our subsequent analysis."
   ],
   "metadata": {
    "collapsed": false
   }
  },
  {
   "cell_type": "markdown",
   "source": [
    "# The next stage is to investigate the Price column to see if we have any outliers that need addressed. Upon inspection there are a few outliers contained with this data, however, given the nature of this analysis I have chosen to only use a 10% - 90% quantile range as it is natural to expect higher and lower property values within certain postcode areas. Important to note that each quantile range is a reflection of the postcode number and style of property."
   ],
   "metadata": {
    "collapsed": false
   }
  },
  {
   "cell_type": "code",
   "execution_count": 189,
   "outputs": [
    {
     "data": {
      "text/plain": "   Postcode_number                Style        Q1        Q3\n0              BT1            Apartment  122500.0  407475.0\n1             BT10            Apartment  132980.0  204980.0\n2             BT10             Bungalow  325000.0  325000.0\n3             BT10       Detached House  260985.0  324985.0\n4             BT10  Semi-detached House  180980.0  290980.0\n..             ...                  ...       ...       ...\n79             BT9            Townhouse  168000.0  557000.0\n80         Belfast            Apartment  171000.0  219000.0\n81         Belfast       Detached House  512960.0  669000.0\n82         Belfast  Semi-detached House       NaN       NaN\n83       Carryduff       Detached House       NaN       NaN\n\n[84 rows x 4 columns]",
      "text/html": "<div>\n<style scoped>\n    .dataframe tbody tr th:only-of-type {\n        vertical-align: middle;\n    }\n\n    .dataframe tbody tr th {\n        vertical-align: top;\n    }\n\n    .dataframe thead th {\n        text-align: right;\n    }\n</style>\n<table border=\"1\" class=\"dataframe\">\n  <thead>\n    <tr style=\"text-align: right;\">\n      <th></th>\n      <th>Postcode_number</th>\n      <th>Style</th>\n      <th>Q1</th>\n      <th>Q3</th>\n    </tr>\n  </thead>\n  <tbody>\n    <tr>\n      <th>0</th>\n      <td>BT1</td>\n      <td>Apartment</td>\n      <td>122500.0</td>\n      <td>407475.0</td>\n    </tr>\n    <tr>\n      <th>1</th>\n      <td>BT10</td>\n      <td>Apartment</td>\n      <td>132980.0</td>\n      <td>204980.0</td>\n    </tr>\n    <tr>\n      <th>2</th>\n      <td>BT10</td>\n      <td>Bungalow</td>\n      <td>325000.0</td>\n      <td>325000.0</td>\n    </tr>\n    <tr>\n      <th>3</th>\n      <td>BT10</td>\n      <td>Detached House</td>\n      <td>260985.0</td>\n      <td>324985.0</td>\n    </tr>\n    <tr>\n      <th>4</th>\n      <td>BT10</td>\n      <td>Semi-detached House</td>\n      <td>180980.0</td>\n      <td>290980.0</td>\n    </tr>\n    <tr>\n      <th>...</th>\n      <td>...</td>\n      <td>...</td>\n      <td>...</td>\n      <td>...</td>\n    </tr>\n    <tr>\n      <th>79</th>\n      <td>BT9</td>\n      <td>Townhouse</td>\n      <td>168000.0</td>\n      <td>557000.0</td>\n    </tr>\n    <tr>\n      <th>80</th>\n      <td>Belfast</td>\n      <td>Apartment</td>\n      <td>171000.0</td>\n      <td>219000.0</td>\n    </tr>\n    <tr>\n      <th>81</th>\n      <td>Belfast</td>\n      <td>Detached House</td>\n      <td>512960.0</td>\n      <td>669000.0</td>\n    </tr>\n    <tr>\n      <th>82</th>\n      <td>Belfast</td>\n      <td>Semi-detached House</td>\n      <td>NaN</td>\n      <td>NaN</td>\n    </tr>\n    <tr>\n      <th>83</th>\n      <td>Carryduff</td>\n      <td>Detached House</td>\n      <td>NaN</td>\n      <td>NaN</td>\n    </tr>\n  </tbody>\n</table>\n<p>84 rows × 4 columns</p>\n</div>"
     },
     "execution_count": 189,
     "metadata": {},
     "output_type": "execute_result"
    }
   ],
   "source": [
    "# Remove Outliers\n",
    "# Calculate the IQR for each unique postcode\n",
    "iqr_per_postcode = pd.DataFrame(df.groupby(['Postcode_number','Style'])['Price (£)'].quantile([0.1, 0.9]).unstack()).reset_index()\n",
    "iqr_per_postcode.columns = ['Postcode_number','Style', 'Q1', 'Q3']\n",
    "iqr_per_postcode"
   ],
   "metadata": {
    "collapsed": false,
    "ExecuteTime": {
     "end_time": "2023-11-29T11:48:49.623290600Z",
     "start_time": "2023-11-29T11:48:49.580560100Z"
    }
   }
  },
  {
   "cell_type": "code",
   "execution_count": 190,
   "outputs": [],
   "source": [
    "# Merge the IQR values back into the original DataFrame\n",
    "df = df.merge(iqr_per_postcode, on=['Postcode_number','Style'])\n",
    "# Filter the rows based on the IQR values\n",
    "df = df[(df['Price (£)'] >= df['Q1']) & (df['Price (£)'] <= df['Q3'])]\n",
    "\n",
    "# Drop the 10% and 90% quantile columns\n",
    "df.drop(columns=['Q1','Q3'], inplace=True)"
   ],
   "metadata": {
    "collapsed": false,
    "ExecuteTime": {
     "end_time": "2023-11-29T11:48:49.894098200Z",
     "start_time": "2023-11-29T11:48:49.859854900Z"
    }
   }
  },
  {
   "cell_type": "markdown",
   "source": [
    "# The next stage is to deal with the null Rates values. I have decided to use the average rates for each property style within a postcode number. This ensures, for example, an apartment within BT4 gets a rates value that reflects another apartment in BT4 rather than a rates value that is distorted by a detached home in BT9."
   ],
   "metadata": {
    "collapsed": false
   }
  },
  {
   "cell_type": "code",
   "execution_count": 191,
   "outputs": [],
   "source": [
    "# Updating null rates values\n",
    "df['Rates'] = pd.to_numeric(df['Rates'], errors='coerce')\n",
    "avg_rates_by_group = df.groupby(['Postcode_number','Style'])['Rates'].mean().round(0)\n",
    "\n",
    "# Merge the average rates with the original DataFrame\n",
    "df = df.merge(avg_rates_by_group, on=['Postcode_number', 'Style'], how='left', suffixes=('', '_avg'))\n",
    "\n",
    "# Fill null values with the corresponding average rate\n",
    "df['Rates'].fillna(df['Rates_avg'], inplace=True)\n",
    "df.drop(columns=['Rates_avg'], inplace=True)\n"
   ],
   "metadata": {
    "collapsed": false,
    "ExecuteTime": {
     "end_time": "2023-11-29T11:48:50.553846600Z",
     "start_time": "2023-11-29T11:48:50.506595700Z"
    }
   }
  },
  {
   "cell_type": "code",
   "execution_count": 192,
   "outputs": [
    {
     "data": {
      "text/plain": "Postcode_number  Style              \nBT1              Apartment              1174.0\nBT10             Apartment              1000.0\n                 Bungalow               1652.0\n                 Detached House         1913.0\n                 Semi-detached House    1313.0\n                                         ...  \nBT9              Detached House         3397.0\n                 Semi-detached House    3000.0\n                 Terrace House          1251.0\n                 Townhouse              2269.0\nBelfast          Detached House            NaN\nName: Rates, Length: 78, dtype: float64"
     },
     "execution_count": 192,
     "metadata": {},
     "output_type": "execute_result"
    }
   ],
   "source": [
    "avg_rates_by_group"
   ],
   "metadata": {
    "collapsed": false,
    "ExecuteTime": {
     "end_time": "2023-11-29T11:48:50.862074500Z",
     "start_time": "2023-11-29T11:48:50.829518300Z"
    }
   }
  },
  {
   "cell_type": "code",
   "execution_count": 193,
   "outputs": [
    {
     "data": {
      "text/plain": "    Bathrooms  Postcode Bedrooms  Rates Receptions  Price (£) Postcode_number  \\\n275         3   Belfast        4    NaN          2   565000.0         Belfast   \n357         2   Belfast        4    NaN          2   865000.0             BT7   \n358         2   Belfast        4    NaN          2   865000.0             BT7   \n359         2   Belfast        4    NaN          2   835000.0             BT7   \n360         2   Belfast        4    NaN          2  1100000.0             BT7   \n361         2   Belfast        4    NaN          2  1100000.0             BT7   \n362         3   Belfast        4    NaN          2   835000.0             BT7   \n363         3   Belfast        4    NaN          2   835000.0             BT7   \n676      None  BT12 5GF        2    NaN          1   165000.0            BT12   \n\n                                  Address           Style        Estate Agent  \\\n275             The Pottinger, Baron Lane  Detached House  Colliers New Homes   \n357     The Deane (site 18), The Hamptons  Detached House   GOC Estate Agents   \n358     The Heath (site 32), The Hamptons  Detached House   GOC Estate Agents   \n359     The Heath (site 10), The Hamptons  Detached House   GOC Estate Agents   \n360  The Satchwell (site 9), The Hamptons  Detached House   GOC Estate Agents   \n361  The Satchwell (site 8), The Hamptons  Detached House   GOC Estate Agents   \n362     The Deane (site 3a), The Hamptons  Detached House   GOC Estate Agents   \n363      The Deane (site 3), The Hamptons  Detached House   GOC Estate Agents   \n676           Apartment 58 Victoria Place       Apartment                CPS    \n\n    Belfast District  \n275             None  \n357             None  \n358             None  \n359             None  \n360             None  \n361             None  \n362             None  \n363             None  \n676             West  ",
      "text/html": "<div>\n<style scoped>\n    .dataframe tbody tr th:only-of-type {\n        vertical-align: middle;\n    }\n\n    .dataframe tbody tr th {\n        vertical-align: top;\n    }\n\n    .dataframe thead th {\n        text-align: right;\n    }\n</style>\n<table border=\"1\" class=\"dataframe\">\n  <thead>\n    <tr style=\"text-align: right;\">\n      <th></th>\n      <th>Bathrooms</th>\n      <th>Postcode</th>\n      <th>Bedrooms</th>\n      <th>Rates</th>\n      <th>Receptions</th>\n      <th>Price (£)</th>\n      <th>Postcode_number</th>\n      <th>Address</th>\n      <th>Style</th>\n      <th>Estate Agent</th>\n      <th>Belfast District</th>\n    </tr>\n  </thead>\n  <tbody>\n    <tr>\n      <th>275</th>\n      <td>3</td>\n      <td>Belfast</td>\n      <td>4</td>\n      <td>NaN</td>\n      <td>2</td>\n      <td>565000.0</td>\n      <td>Belfast</td>\n      <td>The Pottinger, Baron Lane</td>\n      <td>Detached House</td>\n      <td>Colliers New Homes</td>\n      <td>None</td>\n    </tr>\n    <tr>\n      <th>357</th>\n      <td>2</td>\n      <td>Belfast</td>\n      <td>4</td>\n      <td>NaN</td>\n      <td>2</td>\n      <td>865000.0</td>\n      <td>BT7</td>\n      <td>The Deane (site 18), The Hamptons</td>\n      <td>Detached House</td>\n      <td>GOC Estate Agents</td>\n      <td>None</td>\n    </tr>\n    <tr>\n      <th>358</th>\n      <td>2</td>\n      <td>Belfast</td>\n      <td>4</td>\n      <td>NaN</td>\n      <td>2</td>\n      <td>865000.0</td>\n      <td>BT7</td>\n      <td>The Heath (site 32), The Hamptons</td>\n      <td>Detached House</td>\n      <td>GOC Estate Agents</td>\n      <td>None</td>\n    </tr>\n    <tr>\n      <th>359</th>\n      <td>2</td>\n      <td>Belfast</td>\n      <td>4</td>\n      <td>NaN</td>\n      <td>2</td>\n      <td>835000.0</td>\n      <td>BT7</td>\n      <td>The Heath (site 10), The Hamptons</td>\n      <td>Detached House</td>\n      <td>GOC Estate Agents</td>\n      <td>None</td>\n    </tr>\n    <tr>\n      <th>360</th>\n      <td>2</td>\n      <td>Belfast</td>\n      <td>4</td>\n      <td>NaN</td>\n      <td>2</td>\n      <td>1100000.0</td>\n      <td>BT7</td>\n      <td>The Satchwell (site 9), The Hamptons</td>\n      <td>Detached House</td>\n      <td>GOC Estate Agents</td>\n      <td>None</td>\n    </tr>\n    <tr>\n      <th>361</th>\n      <td>2</td>\n      <td>Belfast</td>\n      <td>4</td>\n      <td>NaN</td>\n      <td>2</td>\n      <td>1100000.0</td>\n      <td>BT7</td>\n      <td>The Satchwell (site 8), The Hamptons</td>\n      <td>Detached House</td>\n      <td>GOC Estate Agents</td>\n      <td>None</td>\n    </tr>\n    <tr>\n      <th>362</th>\n      <td>3</td>\n      <td>Belfast</td>\n      <td>4</td>\n      <td>NaN</td>\n      <td>2</td>\n      <td>835000.0</td>\n      <td>BT7</td>\n      <td>The Deane (site 3a), The Hamptons</td>\n      <td>Detached House</td>\n      <td>GOC Estate Agents</td>\n      <td>None</td>\n    </tr>\n    <tr>\n      <th>363</th>\n      <td>3</td>\n      <td>Belfast</td>\n      <td>4</td>\n      <td>NaN</td>\n      <td>2</td>\n      <td>835000.0</td>\n      <td>BT7</td>\n      <td>The Deane (site 3), The Hamptons</td>\n      <td>Detached House</td>\n      <td>GOC Estate Agents</td>\n      <td>None</td>\n    </tr>\n    <tr>\n      <th>676</th>\n      <td>None</td>\n      <td>BT12 5GF</td>\n      <td>2</td>\n      <td>NaN</td>\n      <td>1</td>\n      <td>165000.0</td>\n      <td>BT12</td>\n      <td>Apartment 58 Victoria Place</td>\n      <td>Apartment</td>\n      <td>CPS</td>\n      <td>West</td>\n    </tr>\n  </tbody>\n</table>\n</div>"
     },
     "execution_count": 193,
     "metadata": {},
     "output_type": "execute_result"
    }
   ],
   "source": [
    "# Checking for null rates values\n",
    "df.loc[df['Rates'].isna()]"
   ],
   "metadata": {
    "collapsed": false,
    "ExecuteTime": {
     "end_time": "2023-11-29T11:48:51.185724600Z",
     "start_time": "2023-11-29T11:48:51.135266900Z"
    }
   }
  },
  {
   "cell_type": "markdown",
   "source": [
    "# It would appear as though we still have some null rates values that need addressed. Given that 8/9 of the properties are detached homes with 4 bedrooms and 2 receptions, we will use this information to get the average rates value of a reflective home and replace the nulls. I will then take the same approach with the remaining apartment."
   ],
   "metadata": {
    "collapsed": false
   }
  },
  {
   "cell_type": "code",
   "execution_count": 194,
   "outputs": [],
   "source": [
    "rates_detached = df.loc[(df['Bedrooms'] == '4') & (df['Receptions'] == '2') & (df['Style'] == 'Detached House')]\n",
    "rates_apartment = df.loc[(df['Bedrooms'] == '2') & (df['Receptions'] == '1') & (df['Style'] == 'Apartment')]\n",
    "rates_mean_detached = rates_detached['Rates'].mean().round(2)\n",
    "rates_mean_apartment = rates_apartment['Rates'].mean().round(2)"
   ],
   "metadata": {
    "collapsed": false,
    "ExecuteTime": {
     "end_time": "2023-11-29T11:48:51.825781100Z",
     "start_time": "2023-11-29T11:48:51.784933800Z"
    }
   }
  },
  {
   "cell_type": "code",
   "execution_count": 195,
   "outputs": [],
   "source": [
    "# Fill the NaNs with the new rates values\n",
    "df.loc[df['Style'] == 'Detached House', 'Rates'] = df.loc[df['Style'] == 'Detached House', 'Rates'].fillna(rates_mean_detached)\n",
    "df.loc[df['Style'] == 'Apartment', 'Rates'] = df.loc[df['Style'] == 'Apartment', 'Rates'].fillna(rates_mean_apartment)"
   ],
   "metadata": {
    "collapsed": false,
    "ExecuteTime": {
     "end_time": "2023-11-29T11:48:52.241895500Z",
     "start_time": "2023-11-29T11:48:52.223865400Z"
    }
   }
  },
  {
   "cell_type": "markdown",
   "source": [
    "# The final bit of data cleansing we need to do is addressing the null bathrooms, bedrooms and receptions. Having looked at the data, its safe to assume that every detached and semi-detached has at least 1 reception and 1 bathroom, for any property that has 2 receptions it is likely that they also have 2 bathrooms."
   ],
   "metadata": {
    "collapsed": false
   }
  },
  {
   "cell_type": "code",
   "execution_count": 196,
   "outputs": [],
   "source": [
    "df.loc[((df['Receptions'] == '1') | (df['Receptions'].isna())) & (df['Bathrooms'].isna()), 'Bathrooms'] = '1'\n",
    "df.loc[(df['Receptions'] == '2') & (df['Bathrooms'].isna()) & (df['Style'] != 'Apartment'), 'Bathrooms'] = '2'\n",
    "\n",
    "# Assuming every house style has at least 1 reception and 1 bathroom\n",
    "df.loc[df['Receptions'].isna(), 'Receptions'] = '1'\n",
    "df.loc[df['Bathrooms'].isna(), 'Bathrooms'] = '1'"
   ],
   "metadata": {
    "collapsed": false,
    "ExecuteTime": {
     "end_time": "2023-11-29T11:48:53.003812500Z",
     "start_time": "2023-11-29T11:48:52.983429100Z"
    }
   }
  },
  {
   "cell_type": "code",
   "execution_count": 197,
   "outputs": [],
   "source": [
    "# Checking for null bedrooms\n",
    "df.loc[df['Bedrooms'].isna()]\n",
    "\n",
    "# Assuming the Terrace house and Semi-Detached home will have at least 2 bedrooms\n",
    "df['Bedrooms'].fillna('2', inplace=True)"
   ],
   "metadata": {
    "collapsed": false,
    "ExecuteTime": {
     "end_time": "2023-11-29T11:48:53.635064200Z",
     "start_time": "2023-11-29T11:48:53.601010400Z"
    }
   }
  },
  {
   "cell_type": "code",
   "execution_count": 198,
   "outputs": [
    {
     "data": {
      "text/plain": "    Bathrooms  Postcode Bedrooms    Rates Receptions  Price (£)  \\\n275         3   Belfast        4  2018.79          2   565000.0   \n357         2   Belfast        4  2018.79          2   865000.0   \n358         2   Belfast        4  2018.79          2   865000.0   \n359         2   Belfast        4  2018.79          2   835000.0   \n360         2   Belfast        4  2018.79          2  1100000.0   \n361         2   Belfast        4  2018.79          2  1100000.0   \n362         3   Belfast        4  2018.79          2   835000.0   \n363         3   Belfast        4  2018.79          2   835000.0   \n463         2   Belfast        2  1087.00          1   230000.0   \n464         1   Belfast        1  1087.00          1   250000.0   \n465         2   Belfast        2  1087.00          1   245000.0   \n466         2   Belfast        2  1087.00          1   245000.0   \n467         2   Belfast        2  1087.00          1   235000.0   \n468         2   Belfast        2  1087.00          1   240000.0   \n469         2   Belfast        2  1087.00          1   240000.0   \n470         2   Belfast        2  1087.00          1   250000.0   \n471         2   Belfast        2  1087.00          1   250000.0   \n472         2   Belfast        2  1087.00          1   235000.0   \n473         2   Belfast        2  1087.00          1   225000.0   \n572         1   Belfast        3   953.00          1   390000.0   \n603         3   Belfast        5  3397.00          2   995000.0   \n606         5   Belfast        5  3397.00          3  1125000.0   \n607         4   Belfast        5  3397.00          3   975000.0   \n772         1  BT36 7EY        2   586.91          2    79950.0   \n\n    Postcode_number                                            Address  \\\n275         Belfast                          The Pottinger, Baron Lane   \n357             BT7                  The Deane (site 18), The Hamptons   \n358             BT7                  The Heath (site 32), The Hamptons   \n359             BT7                  The Heath (site 10), The Hamptons   \n360             BT7               The Satchwell (site 9), The Hamptons   \n361             BT7               The Satchwell (site 8), The Hamptons   \n362             BT7                  The Deane (site 3a), The Hamptons   \n363             BT7                   The Deane (site 3), The Hamptons   \n463             BT4  Orchard Hall Apartment 4, Orchard Hall, Castle...   \n464             BT4  Orchard Hall Apartment 9, Orchard Hall, Castle...   \n465             BT4  Orchard Hall Apartment 7, Orchard Hall, Castle...   \n466             BT4  Orchard Hall Apartment 6, Orchard Hall, Castle...   \n467             BT4  Orchard Hall Apartment 5, Orchard Hall, Castle...   \n468             BT4  Orchard Hall Apartment 3, Orchard Hall, Castle...   \n469             BT4  Orchard Hall Apartment 2, Orchard Hall, Castle...   \n470             BT4  Orchard Hall Apartment 13, Orchard Hall, Castl...   \n471             BT4  Orchard Hall Apartment 12, Orchard Hall, Castl...   \n472             BT4  Orchard Hall Apartment 11, Orchard Hall, Castl...   \n473             BT4  Orchard Hall Apartment 1, Orchard Hall, Castle...   \n572             BT8                    Apartment 3, The Admin Building   \n603             BT9                  The Brompton, Lesley Park Demesne   \n606             BT9                   The Cadogan, Lesley Park Demesne   \n607             BT9                  The Berkeley, Lesley Park Demesne   \n772            BT36                                17 Voltaire Gardens   \n\n                   Style              Estate Agent Belfast District  \n275       Detached House        Colliers New Homes             None  \n357       Detached House         GOC Estate Agents             None  \n358       Detached House         GOC Estate Agents             None  \n359       Detached House         GOC Estate Agents             None  \n360       Detached House         GOC Estate Agents             None  \n361       Detached House         GOC Estate Agents             None  \n362       Detached House         GOC Estate Agents             None  \n363       Detached House         GOC Estate Agents             None  \n463            Apartment  Simon Brien Residential              None  \n464            Apartment  Simon Brien Residential              None  \n465            Apartment  Simon Brien Residential              None  \n466            Apartment  Simon Brien Residential              None  \n467            Apartment  Simon Brien Residential              None  \n468            Apartment  Simon Brien Residential              None  \n469            Apartment  Simon Brien Residential              None  \n470            Apartment  Simon Brien Residential              None  \n471            Apartment  Simon Brien Residential              None  \n472            Apartment  Simon Brien Residential              None  \n473            Apartment  Simon Brien Residential              None  \n572            Apartment  Simon Brien Residential              None  \n603       Detached House       Templeton Robinson              None  \n606       Detached House       Templeton Robinson              None  \n607       Detached House       Templeton Robinson              None  \n772  Semi-detached House         Pinpoint Property             None  ",
      "text/html": "<div>\n<style scoped>\n    .dataframe tbody tr th:only-of-type {\n        vertical-align: middle;\n    }\n\n    .dataframe tbody tr th {\n        vertical-align: top;\n    }\n\n    .dataframe thead th {\n        text-align: right;\n    }\n</style>\n<table border=\"1\" class=\"dataframe\">\n  <thead>\n    <tr style=\"text-align: right;\">\n      <th></th>\n      <th>Bathrooms</th>\n      <th>Postcode</th>\n      <th>Bedrooms</th>\n      <th>Rates</th>\n      <th>Receptions</th>\n      <th>Price (£)</th>\n      <th>Postcode_number</th>\n      <th>Address</th>\n      <th>Style</th>\n      <th>Estate Agent</th>\n      <th>Belfast District</th>\n    </tr>\n  </thead>\n  <tbody>\n    <tr>\n      <th>275</th>\n      <td>3</td>\n      <td>Belfast</td>\n      <td>4</td>\n      <td>2018.79</td>\n      <td>2</td>\n      <td>565000.0</td>\n      <td>Belfast</td>\n      <td>The Pottinger, Baron Lane</td>\n      <td>Detached House</td>\n      <td>Colliers New Homes</td>\n      <td>None</td>\n    </tr>\n    <tr>\n      <th>357</th>\n      <td>2</td>\n      <td>Belfast</td>\n      <td>4</td>\n      <td>2018.79</td>\n      <td>2</td>\n      <td>865000.0</td>\n      <td>BT7</td>\n      <td>The Deane (site 18), The Hamptons</td>\n      <td>Detached House</td>\n      <td>GOC Estate Agents</td>\n      <td>None</td>\n    </tr>\n    <tr>\n      <th>358</th>\n      <td>2</td>\n      <td>Belfast</td>\n      <td>4</td>\n      <td>2018.79</td>\n      <td>2</td>\n      <td>865000.0</td>\n      <td>BT7</td>\n      <td>The Heath (site 32), The Hamptons</td>\n      <td>Detached House</td>\n      <td>GOC Estate Agents</td>\n      <td>None</td>\n    </tr>\n    <tr>\n      <th>359</th>\n      <td>2</td>\n      <td>Belfast</td>\n      <td>4</td>\n      <td>2018.79</td>\n      <td>2</td>\n      <td>835000.0</td>\n      <td>BT7</td>\n      <td>The Heath (site 10), The Hamptons</td>\n      <td>Detached House</td>\n      <td>GOC Estate Agents</td>\n      <td>None</td>\n    </tr>\n    <tr>\n      <th>360</th>\n      <td>2</td>\n      <td>Belfast</td>\n      <td>4</td>\n      <td>2018.79</td>\n      <td>2</td>\n      <td>1100000.0</td>\n      <td>BT7</td>\n      <td>The Satchwell (site 9), The Hamptons</td>\n      <td>Detached House</td>\n      <td>GOC Estate Agents</td>\n      <td>None</td>\n    </tr>\n    <tr>\n      <th>361</th>\n      <td>2</td>\n      <td>Belfast</td>\n      <td>4</td>\n      <td>2018.79</td>\n      <td>2</td>\n      <td>1100000.0</td>\n      <td>BT7</td>\n      <td>The Satchwell (site 8), The Hamptons</td>\n      <td>Detached House</td>\n      <td>GOC Estate Agents</td>\n      <td>None</td>\n    </tr>\n    <tr>\n      <th>362</th>\n      <td>3</td>\n      <td>Belfast</td>\n      <td>4</td>\n      <td>2018.79</td>\n      <td>2</td>\n      <td>835000.0</td>\n      <td>BT7</td>\n      <td>The Deane (site 3a), The Hamptons</td>\n      <td>Detached House</td>\n      <td>GOC Estate Agents</td>\n      <td>None</td>\n    </tr>\n    <tr>\n      <th>363</th>\n      <td>3</td>\n      <td>Belfast</td>\n      <td>4</td>\n      <td>2018.79</td>\n      <td>2</td>\n      <td>835000.0</td>\n      <td>BT7</td>\n      <td>The Deane (site 3), The Hamptons</td>\n      <td>Detached House</td>\n      <td>GOC Estate Agents</td>\n      <td>None</td>\n    </tr>\n    <tr>\n      <th>463</th>\n      <td>2</td>\n      <td>Belfast</td>\n      <td>2</td>\n      <td>1087.00</td>\n      <td>1</td>\n      <td>230000.0</td>\n      <td>BT4</td>\n      <td>Orchard Hall Apartment 4, Orchard Hall, Castle...</td>\n      <td>Apartment</td>\n      <td>Simon Brien Residential</td>\n      <td>None</td>\n    </tr>\n    <tr>\n      <th>464</th>\n      <td>1</td>\n      <td>Belfast</td>\n      <td>1</td>\n      <td>1087.00</td>\n      <td>1</td>\n      <td>250000.0</td>\n      <td>BT4</td>\n      <td>Orchard Hall Apartment 9, Orchard Hall, Castle...</td>\n      <td>Apartment</td>\n      <td>Simon Brien Residential</td>\n      <td>None</td>\n    </tr>\n    <tr>\n      <th>465</th>\n      <td>2</td>\n      <td>Belfast</td>\n      <td>2</td>\n      <td>1087.00</td>\n      <td>1</td>\n      <td>245000.0</td>\n      <td>BT4</td>\n      <td>Orchard Hall Apartment 7, Orchard Hall, Castle...</td>\n      <td>Apartment</td>\n      <td>Simon Brien Residential</td>\n      <td>None</td>\n    </tr>\n    <tr>\n      <th>466</th>\n      <td>2</td>\n      <td>Belfast</td>\n      <td>2</td>\n      <td>1087.00</td>\n      <td>1</td>\n      <td>245000.0</td>\n      <td>BT4</td>\n      <td>Orchard Hall Apartment 6, Orchard Hall, Castle...</td>\n      <td>Apartment</td>\n      <td>Simon Brien Residential</td>\n      <td>None</td>\n    </tr>\n    <tr>\n      <th>467</th>\n      <td>2</td>\n      <td>Belfast</td>\n      <td>2</td>\n      <td>1087.00</td>\n      <td>1</td>\n      <td>235000.0</td>\n      <td>BT4</td>\n      <td>Orchard Hall Apartment 5, Orchard Hall, Castle...</td>\n      <td>Apartment</td>\n      <td>Simon Brien Residential</td>\n      <td>None</td>\n    </tr>\n    <tr>\n      <th>468</th>\n      <td>2</td>\n      <td>Belfast</td>\n      <td>2</td>\n      <td>1087.00</td>\n      <td>1</td>\n      <td>240000.0</td>\n      <td>BT4</td>\n      <td>Orchard Hall Apartment 3, Orchard Hall, Castle...</td>\n      <td>Apartment</td>\n      <td>Simon Brien Residential</td>\n      <td>None</td>\n    </tr>\n    <tr>\n      <th>469</th>\n      <td>2</td>\n      <td>Belfast</td>\n      <td>2</td>\n      <td>1087.00</td>\n      <td>1</td>\n      <td>240000.0</td>\n      <td>BT4</td>\n      <td>Orchard Hall Apartment 2, Orchard Hall, Castle...</td>\n      <td>Apartment</td>\n      <td>Simon Brien Residential</td>\n      <td>None</td>\n    </tr>\n    <tr>\n      <th>470</th>\n      <td>2</td>\n      <td>Belfast</td>\n      <td>2</td>\n      <td>1087.00</td>\n      <td>1</td>\n      <td>250000.0</td>\n      <td>BT4</td>\n      <td>Orchard Hall Apartment 13, Orchard Hall, Castl...</td>\n      <td>Apartment</td>\n      <td>Simon Brien Residential</td>\n      <td>None</td>\n    </tr>\n    <tr>\n      <th>471</th>\n      <td>2</td>\n      <td>Belfast</td>\n      <td>2</td>\n      <td>1087.00</td>\n      <td>1</td>\n      <td>250000.0</td>\n      <td>BT4</td>\n      <td>Orchard Hall Apartment 12, Orchard Hall, Castl...</td>\n      <td>Apartment</td>\n      <td>Simon Brien Residential</td>\n      <td>None</td>\n    </tr>\n    <tr>\n      <th>472</th>\n      <td>2</td>\n      <td>Belfast</td>\n      <td>2</td>\n      <td>1087.00</td>\n      <td>1</td>\n      <td>235000.0</td>\n      <td>BT4</td>\n      <td>Orchard Hall Apartment 11, Orchard Hall, Castl...</td>\n      <td>Apartment</td>\n      <td>Simon Brien Residential</td>\n      <td>None</td>\n    </tr>\n    <tr>\n      <th>473</th>\n      <td>2</td>\n      <td>Belfast</td>\n      <td>2</td>\n      <td>1087.00</td>\n      <td>1</td>\n      <td>225000.0</td>\n      <td>BT4</td>\n      <td>Orchard Hall Apartment 1, Orchard Hall, Castle...</td>\n      <td>Apartment</td>\n      <td>Simon Brien Residential</td>\n      <td>None</td>\n    </tr>\n    <tr>\n      <th>572</th>\n      <td>1</td>\n      <td>Belfast</td>\n      <td>3</td>\n      <td>953.00</td>\n      <td>1</td>\n      <td>390000.0</td>\n      <td>BT8</td>\n      <td>Apartment 3, The Admin Building</td>\n      <td>Apartment</td>\n      <td>Simon Brien Residential</td>\n      <td>None</td>\n    </tr>\n    <tr>\n      <th>603</th>\n      <td>3</td>\n      <td>Belfast</td>\n      <td>5</td>\n      <td>3397.00</td>\n      <td>2</td>\n      <td>995000.0</td>\n      <td>BT9</td>\n      <td>The Brompton, Lesley Park Demesne</td>\n      <td>Detached House</td>\n      <td>Templeton Robinson</td>\n      <td>None</td>\n    </tr>\n    <tr>\n      <th>606</th>\n      <td>5</td>\n      <td>Belfast</td>\n      <td>5</td>\n      <td>3397.00</td>\n      <td>3</td>\n      <td>1125000.0</td>\n      <td>BT9</td>\n      <td>The Cadogan, Lesley Park Demesne</td>\n      <td>Detached House</td>\n      <td>Templeton Robinson</td>\n      <td>None</td>\n    </tr>\n    <tr>\n      <th>607</th>\n      <td>4</td>\n      <td>Belfast</td>\n      <td>5</td>\n      <td>3397.00</td>\n      <td>3</td>\n      <td>975000.0</td>\n      <td>BT9</td>\n      <td>The Berkeley, Lesley Park Demesne</td>\n      <td>Detached House</td>\n      <td>Templeton Robinson</td>\n      <td>None</td>\n    </tr>\n    <tr>\n      <th>772</th>\n      <td>1</td>\n      <td>BT36 7EY</td>\n      <td>2</td>\n      <td>586.91</td>\n      <td>2</td>\n      <td>79950.0</td>\n      <td>BT36</td>\n      <td>17 Voltaire Gardens</td>\n      <td>Semi-detached House</td>\n      <td>Pinpoint Property</td>\n      <td>None</td>\n    </tr>\n  </tbody>\n</table>\n</div>"
     },
     "execution_count": 198,
     "metadata": {},
     "output_type": "execute_result"
    }
   ],
   "source": [
    "# Dealing with null belfast districts\n",
    "df.loc[df['Belfast District'].isna()]"
   ],
   "metadata": {
    "collapsed": false,
    "ExecuteTime": {
     "end_time": "2023-11-29T11:48:54.146621500Z",
     "start_time": "2023-11-29T11:48:54.099609400Z"
    }
   }
  },
  {
   "cell_type": "code",
   "execution_count": 199,
   "outputs": [],
   "source": [
    "areas_of_belfast = {\n",
    "    'BT4': 'East',\n",
    "    'BT7': 'South',\n",
    "    'BT8': 'South',\n",
    "    'BT9': 'South',\n",
    "    'BT36': 'North'}\n",
    "\n",
    "df['Belfast District'] = df['Belfast District'].fillna(df['Postcode_number'].map(areas_of_belfast))\n",
    "df = df.dropna(subset=['Belfast District'])"
   ],
   "metadata": {
    "collapsed": false,
    "ExecuteTime": {
     "end_time": "2023-11-29T11:48:54.783289800Z",
     "start_time": "2023-11-29T11:48:54.737259600Z"
    }
   }
  },
  {
   "cell_type": "code",
   "execution_count": 200,
   "outputs": [],
   "source": [
    "# Although these postcode numbers cover two districts, for simplicity, I am going to change them.\n",
    "df.loc[df['Postcode_number'] == 'BT17', 'Belfast District'] = 'West'\n",
    "df.loc[df['Postcode_number'] == 'BT10', 'Belfast District'] = 'South-West'"
   ],
   "metadata": {
    "collapsed": false,
    "ExecuteTime": {
     "end_time": "2023-11-29T11:48:55.352726Z",
     "start_time": "2023-11-29T11:48:55.340694300Z"
    }
   }
  },
  {
   "cell_type": "code",
   "execution_count": 201,
   "outputs": [],
   "source": [
    "# Final step is to convert the relevant columns into integers\n",
    "df[['Bedrooms','Bathrooms','Receptions']] = df[['Bedrooms','Bathrooms','Receptions']].astype(int)"
   ],
   "metadata": {
    "collapsed": false,
    "ExecuteTime": {
     "end_time": "2023-11-29T11:48:55.934964600Z",
     "start_time": "2023-11-29T11:48:55.893873400Z"
    }
   }
  },
  {
   "cell_type": "code",
   "execution_count": 202,
   "outputs": [
    {
     "name": "stdout",
     "output_type": "stream",
     "text": [
      "Number of null bathrooms: 0\n",
      "Number of null bedrooms: 0\n",
      "Number of null receptions: 0\n",
      "Number of null rates: 0\n",
      "Number of null Belfast Districts: 0\n"
     ]
    }
   ],
   "source": [
    "print(f\"Number of null bathrooms: {len(df.loc[df['Bathrooms'].isna()])}\")\n",
    "print(f\"Number of null bedrooms: {len(df.loc[df['Bedrooms'].isna()])}\")\n",
    "print(f\"Number of null receptions: {len(df.loc[df['Receptions'].isna()])}\")\n",
    "print(f\"Number of null rates: {len(df.loc[df['Rates'].isna()])}\")\n",
    "print(f\"Number of null Belfast Districts: {len(df.loc[df['Belfast District'].isna()])}\")"
   ],
   "metadata": {
    "collapsed": false,
    "ExecuteTime": {
     "end_time": "2023-11-29T11:48:56.667396200Z",
     "start_time": "2023-11-29T11:48:56.617451700Z"
    }
   }
  },
  {
   "cell_type": "code",
   "execution_count": 203,
   "outputs": [
    {
     "data": {
      "text/plain": "     Bathrooms  Postcode  Bedrooms    Rates  Receptions  Price (£)  \\\n0            2   BT8 8FX         4  1652.05           2   335000.0   \n1            2   BT8 8GU         3  1129.41           1   229950.0   \n2            2   BT8 8FX         4  1652.05           2   335000.0   \n3            1   BT8 7YG         2  1045.75           1   169000.0   \n4            2   BT8 6BA         4  1882.35           1   245000.0   \n..         ...       ...       ...      ...         ...        ...   \n772          1  BT36 7EY         2   586.91           2    79950.0   \n773          1  BT14 6LF         4   630.39           2   119950.0   \n774          1  BT11 9QW         2   652.13           1   129950.0   \n775          3  BT17 0JE         5  3043.25           3   399950.0   \n776          1   BT9 5HF         3  2130.28           2   345000.0   \n\n    Postcode_number                Address                Style  \\\n0               BT8       5 Haddo Crescent            Townhouse   \n1               BT8         84 The Demesne            Townhouse   \n2               BT8       5 Haddo Crescent            Townhouse   \n3               BT8  17 Greer Park Heights            Townhouse   \n4               BT8  5 Croft Hill Cottages            Townhouse   \n..              ...                    ...                  ...   \n772            BT36    17 Voltaire Gardens  Semi-detached House   \n773            BT14    19 Clifton Crescent            Townhouse   \n774            BT11   10 Gweedore Crescent            Townhouse   \n775            BT17  11 Glengoland Gardens             Bungalow   \n776             BT9      6 Marylebone Park             Bungalow   \n\n                    Estate Agent Belfast District  \n0         Ulster Property Sales             South  \n1         Ulster Property Sales             South  \n2         Ulster Property Sales             South  \n3                   Fetherstons             South  \n4         Ulster Property Sales             South  \n..                           ...              ...  \n772            Pinpoint Property            North  \n773  House To Home Estate Agents       North-West  \n774       Ulster Property Sales              West  \n775       Ulster Property Sales              West  \n776       Ulster Property Sales             South  \n\n[776 rows x 11 columns]",
      "text/html": "<div>\n<style scoped>\n    .dataframe tbody tr th:only-of-type {\n        vertical-align: middle;\n    }\n\n    .dataframe tbody tr th {\n        vertical-align: top;\n    }\n\n    .dataframe thead th {\n        text-align: right;\n    }\n</style>\n<table border=\"1\" class=\"dataframe\">\n  <thead>\n    <tr style=\"text-align: right;\">\n      <th></th>\n      <th>Bathrooms</th>\n      <th>Postcode</th>\n      <th>Bedrooms</th>\n      <th>Rates</th>\n      <th>Receptions</th>\n      <th>Price (£)</th>\n      <th>Postcode_number</th>\n      <th>Address</th>\n      <th>Style</th>\n      <th>Estate Agent</th>\n      <th>Belfast District</th>\n    </tr>\n  </thead>\n  <tbody>\n    <tr>\n      <th>0</th>\n      <td>2</td>\n      <td>BT8 8FX</td>\n      <td>4</td>\n      <td>1652.05</td>\n      <td>2</td>\n      <td>335000.0</td>\n      <td>BT8</td>\n      <td>5 Haddo Crescent</td>\n      <td>Townhouse</td>\n      <td>Ulster Property Sales</td>\n      <td>South</td>\n    </tr>\n    <tr>\n      <th>1</th>\n      <td>2</td>\n      <td>BT8 8GU</td>\n      <td>3</td>\n      <td>1129.41</td>\n      <td>1</td>\n      <td>229950.0</td>\n      <td>BT8</td>\n      <td>84 The Demesne</td>\n      <td>Townhouse</td>\n      <td>Ulster Property Sales</td>\n      <td>South</td>\n    </tr>\n    <tr>\n      <th>2</th>\n      <td>2</td>\n      <td>BT8 8FX</td>\n      <td>4</td>\n      <td>1652.05</td>\n      <td>2</td>\n      <td>335000.0</td>\n      <td>BT8</td>\n      <td>5 Haddo Crescent</td>\n      <td>Townhouse</td>\n      <td>Ulster Property Sales</td>\n      <td>South</td>\n    </tr>\n    <tr>\n      <th>3</th>\n      <td>1</td>\n      <td>BT8 7YG</td>\n      <td>2</td>\n      <td>1045.75</td>\n      <td>1</td>\n      <td>169000.0</td>\n      <td>BT8</td>\n      <td>17 Greer Park Heights</td>\n      <td>Townhouse</td>\n      <td>Fetherstons</td>\n      <td>South</td>\n    </tr>\n    <tr>\n      <th>4</th>\n      <td>2</td>\n      <td>BT8 6BA</td>\n      <td>4</td>\n      <td>1882.35</td>\n      <td>1</td>\n      <td>245000.0</td>\n      <td>BT8</td>\n      <td>5 Croft Hill Cottages</td>\n      <td>Townhouse</td>\n      <td>Ulster Property Sales</td>\n      <td>South</td>\n    </tr>\n    <tr>\n      <th>...</th>\n      <td>...</td>\n      <td>...</td>\n      <td>...</td>\n      <td>...</td>\n      <td>...</td>\n      <td>...</td>\n      <td>...</td>\n      <td>...</td>\n      <td>...</td>\n      <td>...</td>\n      <td>...</td>\n    </tr>\n    <tr>\n      <th>772</th>\n      <td>1</td>\n      <td>BT36 7EY</td>\n      <td>2</td>\n      <td>586.91</td>\n      <td>2</td>\n      <td>79950.0</td>\n      <td>BT36</td>\n      <td>17 Voltaire Gardens</td>\n      <td>Semi-detached House</td>\n      <td>Pinpoint Property</td>\n      <td>North</td>\n    </tr>\n    <tr>\n      <th>773</th>\n      <td>1</td>\n      <td>BT14 6LF</td>\n      <td>4</td>\n      <td>630.39</td>\n      <td>2</td>\n      <td>119950.0</td>\n      <td>BT14</td>\n      <td>19 Clifton Crescent</td>\n      <td>Townhouse</td>\n      <td>House To Home Estate Agents</td>\n      <td>North-West</td>\n    </tr>\n    <tr>\n      <th>774</th>\n      <td>1</td>\n      <td>BT11 9QW</td>\n      <td>2</td>\n      <td>652.13</td>\n      <td>1</td>\n      <td>129950.0</td>\n      <td>BT11</td>\n      <td>10 Gweedore Crescent</td>\n      <td>Townhouse</td>\n      <td>Ulster Property Sales</td>\n      <td>West</td>\n    </tr>\n    <tr>\n      <th>775</th>\n      <td>3</td>\n      <td>BT17 0JE</td>\n      <td>5</td>\n      <td>3043.25</td>\n      <td>3</td>\n      <td>399950.0</td>\n      <td>BT17</td>\n      <td>11 Glengoland Gardens</td>\n      <td>Bungalow</td>\n      <td>Ulster Property Sales</td>\n      <td>West</td>\n    </tr>\n    <tr>\n      <th>776</th>\n      <td>1</td>\n      <td>BT9 5HF</td>\n      <td>3</td>\n      <td>2130.28</td>\n      <td>2</td>\n      <td>345000.0</td>\n      <td>BT9</td>\n      <td>6 Marylebone Park</td>\n      <td>Bungalow</td>\n      <td>Ulster Property Sales</td>\n      <td>South</td>\n    </tr>\n  </tbody>\n</table>\n<p>776 rows × 11 columns</p>\n</div>"
     },
     "execution_count": 203,
     "metadata": {},
     "output_type": "execute_result"
    }
   ],
   "source": [
    "df.to_csv('clean_df.csv')\n",
    "df"
   ],
   "metadata": {
    "collapsed": false,
    "ExecuteTime": {
     "end_time": "2023-11-29T11:48:57.270537700Z",
     "start_time": "2023-11-29T11:48:57.200592500Z"
    }
   }
  },
  {
   "cell_type": "markdown",
   "source": [
    "# We now have a clean dataframe that is ready for analysis."
   ],
   "metadata": {
    "collapsed": false
   }
  },
  {
   "cell_type": "code",
   "execution_count": null,
   "outputs": [],
   "source": [],
   "metadata": {
    "collapsed": false
   }
  }
 ],
 "metadata": {
  "kernelspec": {
   "display_name": "Python 3",
   "language": "python",
   "name": "python3"
  },
  "language_info": {
   "codemirror_mode": {
    "name": "ipython",
    "version": 2
   },
   "file_extension": ".py",
   "mimetype": "text/x-python",
   "name": "python",
   "nbconvert_exporter": "python",
   "pygments_lexer": "ipython2",
   "version": "2.7.6"
  }
 },
 "nbformat": 4,
 "nbformat_minor": 0
}
