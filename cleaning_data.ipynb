{
 "cells": [
  {
   "cell_type": "code",
   "execution_count": 21,
   "metadata": {
    "collapsed": true,
    "ExecuteTime": {
     "end_time": "2023-11-20T14:34:16.783506800Z",
     "start_time": "2023-11-20T14:34:16.621666700Z"
    }
   },
   "outputs": [],
   "source": [
    "import pandas as pd\n",
    "import numpy as np\n",
    "import re\n",
    "import matplotlib.pyplot as plt\n",
    "import cartopy.crs as ccrs\n",
    "import seaborn as sns\n",
    "from scipy import stats"
   ]
  },
  {
   "cell_type": "code",
   "execution_count": 2,
   "outputs": [
    {
     "data": {
      "text/plain": "   Size Open Viewing   Lot Bathrooms  Time  Postcode Heating    Status  \\\n0  None         None  None         2  None   BT8 8FX    None      None   \n1  None         None  None         1  None   BT7 3DQ     Gas      None   \n2  None         None  None         2  None   BT8 6GY     Gas  For sale   \n3  None         None  None      None  None   BT7 3JH     Gas      None   \n4  None         None  None         4  None   BT8 8LN    None      None   \n\n  Bedrooms    Rates Receptions Broadband  Price (£) Venue Postcode_number  \\\n0        4  1652.05          2   900Mbps   335000.0  None             BT8   \n1        1   826.03          1   900Mbps   129950.0  None             BT7   \n2        4  1296.73          1   900Mbps   239950.0  None             BT8   \n3        3  1391.20          1    80Mbps   219950.0  None             BT7   \n4        6     None          3      None   675000.0  None             BT8   \n\n                               Address                Style  \\\n0                     5 Haddo Crescent            Townhouse   \n1                     5 Annadale Green            Apartment   \n2                    11 Finsbury Drive  Semi-detached House   \n3  Apt 13 Anna Hill, 2 Annadale Avenue            Apartment   \n4                        103 Fort Road       Detached House   \n\n                         Estate Agent Belfast District  \n0  Ulster Property Sales (Forestside)            South  \n1                Nicholas Residential            South  \n2                James Duggan Estates            South  \n3   Templeton Robinson (Lisburn Road)            South  \n4  Fetherstons (South Belfast Office)            South  ",
      "text/html": "<div>\n<style scoped>\n    .dataframe tbody tr th:only-of-type {\n        vertical-align: middle;\n    }\n\n    .dataframe tbody tr th {\n        vertical-align: top;\n    }\n\n    .dataframe thead th {\n        text-align: right;\n    }\n</style>\n<table border=\"1\" class=\"dataframe\">\n  <thead>\n    <tr style=\"text-align: right;\">\n      <th></th>\n      <th>Size</th>\n      <th>Open Viewing</th>\n      <th>Lot</th>\n      <th>Bathrooms</th>\n      <th>Time</th>\n      <th>Postcode</th>\n      <th>Heating</th>\n      <th>Status</th>\n      <th>Bedrooms</th>\n      <th>Rates</th>\n      <th>Receptions</th>\n      <th>Broadband</th>\n      <th>Price (£)</th>\n      <th>Venue</th>\n      <th>Postcode_number</th>\n      <th>Address</th>\n      <th>Style</th>\n      <th>Estate Agent</th>\n      <th>Belfast District</th>\n    </tr>\n  </thead>\n  <tbody>\n    <tr>\n      <th>0</th>\n      <td>None</td>\n      <td>None</td>\n      <td>None</td>\n      <td>2</td>\n      <td>None</td>\n      <td>BT8 8FX</td>\n      <td>None</td>\n      <td>None</td>\n      <td>4</td>\n      <td>1652.05</td>\n      <td>2</td>\n      <td>900Mbps</td>\n      <td>335000.0</td>\n      <td>None</td>\n      <td>BT8</td>\n      <td>5 Haddo Crescent</td>\n      <td>Townhouse</td>\n      <td>Ulster Property Sales (Forestside)</td>\n      <td>South</td>\n    </tr>\n    <tr>\n      <th>1</th>\n      <td>None</td>\n      <td>None</td>\n      <td>None</td>\n      <td>1</td>\n      <td>None</td>\n      <td>BT7 3DQ</td>\n      <td>Gas</td>\n      <td>None</td>\n      <td>1</td>\n      <td>826.03</td>\n      <td>1</td>\n      <td>900Mbps</td>\n      <td>129950.0</td>\n      <td>None</td>\n      <td>BT7</td>\n      <td>5 Annadale Green</td>\n      <td>Apartment</td>\n      <td>Nicholas Residential</td>\n      <td>South</td>\n    </tr>\n    <tr>\n      <th>2</th>\n      <td>None</td>\n      <td>None</td>\n      <td>None</td>\n      <td>2</td>\n      <td>None</td>\n      <td>BT8 6GY</td>\n      <td>Gas</td>\n      <td>For sale</td>\n      <td>4</td>\n      <td>1296.73</td>\n      <td>1</td>\n      <td>900Mbps</td>\n      <td>239950.0</td>\n      <td>None</td>\n      <td>BT8</td>\n      <td>11 Finsbury Drive</td>\n      <td>Semi-detached House</td>\n      <td>James Duggan Estates</td>\n      <td>South</td>\n    </tr>\n    <tr>\n      <th>3</th>\n      <td>None</td>\n      <td>None</td>\n      <td>None</td>\n      <td>None</td>\n      <td>None</td>\n      <td>BT7 3JH</td>\n      <td>Gas</td>\n      <td>None</td>\n      <td>3</td>\n      <td>1391.20</td>\n      <td>1</td>\n      <td>80Mbps</td>\n      <td>219950.0</td>\n      <td>None</td>\n      <td>BT7</td>\n      <td>Apt 13 Anna Hill, 2 Annadale Avenue</td>\n      <td>Apartment</td>\n      <td>Templeton Robinson (Lisburn Road)</td>\n      <td>South</td>\n    </tr>\n    <tr>\n      <th>4</th>\n      <td>None</td>\n      <td>None</td>\n      <td>None</td>\n      <td>4</td>\n      <td>None</td>\n      <td>BT8 8LN</td>\n      <td>None</td>\n      <td>None</td>\n      <td>6</td>\n      <td>None</td>\n      <td>3</td>\n      <td>None</td>\n      <td>675000.0</td>\n      <td>None</td>\n      <td>BT8</td>\n      <td>103 Fort Road</td>\n      <td>Detached House</td>\n      <td>Fetherstons (South Belfast Office)</td>\n      <td>South</td>\n    </tr>\n  </tbody>\n</table>\n</div>"
     },
     "execution_count": 2,
     "metadata": {},
     "output_type": "execute_result"
    }
   ],
   "source": [
    "# loading in data\n",
    "df = pd.read_parquet('final_df.parquet')\n",
    "\n",
    "# inspecting data\n",
    "df.head()"
   ],
   "metadata": {
    "collapsed": false,
    "ExecuteTime": {
     "end_time": "2023-11-20T14:27:25.108988800Z",
     "start_time": "2023-11-20T14:27:24.817004Z"
    }
   }
  },
  {
   "cell_type": "code",
   "execution_count": 3,
   "outputs": [
    {
     "data": {
      "text/plain": "               Size Open Viewing   Lot Bathrooms  Time  Postcode Heating  \\\n37             None         None  None         2  None   Belfast     Gas   \n175            None         None  None         2  None   Belfast     Gas   \n296            None         None  None         2  None   Belfast     Gas   \n368            None         None  None         2  None   Belfast     Gas   \n453            None         None  None         2  None   Belfast     Gas   \n515            None         None  None         3  None   Belfast     Gas   \n560            None         None  None         3  None   Belfast     Gas   \n625  2,316 sq. feet         None  None         2  None   Belfast     Gas   \n\n       Status Bedrooms Rates Receptions Broadband  Price (£) Venue  \\\n37   For sale        4  None          2      None   865000.0  None   \n175  For sale        4  None          2      None   865000.0  None   \n296  For sale        4  None          2      None   835000.0  None   \n368  For sale        4  None          2      None  1100000.0  None   \n453  For sale        4  None          2      None  1100000.0  None   \n515  For sale        4  None          2      None   835000.0  None   \n560  For sale        4  None          2      None   835000.0  None   \n625  For sale        4  None          2      None        NaN  None   \n\n    Postcode_number                               Address           Style  \\\n37          Belfast     The Deane (site 18), The Hamptons  Detached House   \n175         Belfast     The Heath (site 32), The Hamptons  Detached House   \n296         Belfast     The Heath (site 10), The Hamptons  Detached House   \n368         Belfast  The Satchwell (site 9), The Hamptons  Detached House   \n453         Belfast  The Satchwell (site 8), The Hamptons  Detached House   \n515         Belfast     The Deane (site 3a), The Hamptons  Detached House   \n560         Belfast      The Deane (site 3), The Hamptons  Detached House   \n625         Belfast   The Chatham (site 4c), The Hamptons  Detached House   \n\n          Estate Agent Belfast District  \n37   GOC Estate Agents             None  \n175  GOC Estate Agents             None  \n296  GOC Estate Agents             None  \n368  GOC Estate Agents             None  \n453  GOC Estate Agents             None  \n515  GOC Estate Agents             None  \n560  GOC Estate Agents             None  \n625  GOC Estate Agents             None  ",
      "text/html": "<div>\n<style scoped>\n    .dataframe tbody tr th:only-of-type {\n        vertical-align: middle;\n    }\n\n    .dataframe tbody tr th {\n        vertical-align: top;\n    }\n\n    .dataframe thead th {\n        text-align: right;\n    }\n</style>\n<table border=\"1\" class=\"dataframe\">\n  <thead>\n    <tr style=\"text-align: right;\">\n      <th></th>\n      <th>Size</th>\n      <th>Open Viewing</th>\n      <th>Lot</th>\n      <th>Bathrooms</th>\n      <th>Time</th>\n      <th>Postcode</th>\n      <th>Heating</th>\n      <th>Status</th>\n      <th>Bedrooms</th>\n      <th>Rates</th>\n      <th>Receptions</th>\n      <th>Broadband</th>\n      <th>Price (£)</th>\n      <th>Venue</th>\n      <th>Postcode_number</th>\n      <th>Address</th>\n      <th>Style</th>\n      <th>Estate Agent</th>\n      <th>Belfast District</th>\n    </tr>\n  </thead>\n  <tbody>\n    <tr>\n      <th>37</th>\n      <td>None</td>\n      <td>None</td>\n      <td>None</td>\n      <td>2</td>\n      <td>None</td>\n      <td>Belfast</td>\n      <td>Gas</td>\n      <td>For sale</td>\n      <td>4</td>\n      <td>None</td>\n      <td>2</td>\n      <td>None</td>\n      <td>865000.0</td>\n      <td>None</td>\n      <td>Belfast</td>\n      <td>The Deane (site 18), The Hamptons</td>\n      <td>Detached House</td>\n      <td>GOC Estate Agents</td>\n      <td>None</td>\n    </tr>\n    <tr>\n      <th>175</th>\n      <td>None</td>\n      <td>None</td>\n      <td>None</td>\n      <td>2</td>\n      <td>None</td>\n      <td>Belfast</td>\n      <td>Gas</td>\n      <td>For sale</td>\n      <td>4</td>\n      <td>None</td>\n      <td>2</td>\n      <td>None</td>\n      <td>865000.0</td>\n      <td>None</td>\n      <td>Belfast</td>\n      <td>The Heath (site 32), The Hamptons</td>\n      <td>Detached House</td>\n      <td>GOC Estate Agents</td>\n      <td>None</td>\n    </tr>\n    <tr>\n      <th>296</th>\n      <td>None</td>\n      <td>None</td>\n      <td>None</td>\n      <td>2</td>\n      <td>None</td>\n      <td>Belfast</td>\n      <td>Gas</td>\n      <td>For sale</td>\n      <td>4</td>\n      <td>None</td>\n      <td>2</td>\n      <td>None</td>\n      <td>835000.0</td>\n      <td>None</td>\n      <td>Belfast</td>\n      <td>The Heath (site 10), The Hamptons</td>\n      <td>Detached House</td>\n      <td>GOC Estate Agents</td>\n      <td>None</td>\n    </tr>\n    <tr>\n      <th>368</th>\n      <td>None</td>\n      <td>None</td>\n      <td>None</td>\n      <td>2</td>\n      <td>None</td>\n      <td>Belfast</td>\n      <td>Gas</td>\n      <td>For sale</td>\n      <td>4</td>\n      <td>None</td>\n      <td>2</td>\n      <td>None</td>\n      <td>1100000.0</td>\n      <td>None</td>\n      <td>Belfast</td>\n      <td>The Satchwell (site 9), The Hamptons</td>\n      <td>Detached House</td>\n      <td>GOC Estate Agents</td>\n      <td>None</td>\n    </tr>\n    <tr>\n      <th>453</th>\n      <td>None</td>\n      <td>None</td>\n      <td>None</td>\n      <td>2</td>\n      <td>None</td>\n      <td>Belfast</td>\n      <td>Gas</td>\n      <td>For sale</td>\n      <td>4</td>\n      <td>None</td>\n      <td>2</td>\n      <td>None</td>\n      <td>1100000.0</td>\n      <td>None</td>\n      <td>Belfast</td>\n      <td>The Satchwell (site 8), The Hamptons</td>\n      <td>Detached House</td>\n      <td>GOC Estate Agents</td>\n      <td>None</td>\n    </tr>\n    <tr>\n      <th>515</th>\n      <td>None</td>\n      <td>None</td>\n      <td>None</td>\n      <td>3</td>\n      <td>None</td>\n      <td>Belfast</td>\n      <td>Gas</td>\n      <td>For sale</td>\n      <td>4</td>\n      <td>None</td>\n      <td>2</td>\n      <td>None</td>\n      <td>835000.0</td>\n      <td>None</td>\n      <td>Belfast</td>\n      <td>The Deane (site 3a), The Hamptons</td>\n      <td>Detached House</td>\n      <td>GOC Estate Agents</td>\n      <td>None</td>\n    </tr>\n    <tr>\n      <th>560</th>\n      <td>None</td>\n      <td>None</td>\n      <td>None</td>\n      <td>3</td>\n      <td>None</td>\n      <td>Belfast</td>\n      <td>Gas</td>\n      <td>For sale</td>\n      <td>4</td>\n      <td>None</td>\n      <td>2</td>\n      <td>None</td>\n      <td>835000.0</td>\n      <td>None</td>\n      <td>Belfast</td>\n      <td>The Deane (site 3), The Hamptons</td>\n      <td>Detached House</td>\n      <td>GOC Estate Agents</td>\n      <td>None</td>\n    </tr>\n    <tr>\n      <th>625</th>\n      <td>2,316 sq. feet</td>\n      <td>None</td>\n      <td>None</td>\n      <td>2</td>\n      <td>None</td>\n      <td>Belfast</td>\n      <td>Gas</td>\n      <td>For sale</td>\n      <td>4</td>\n      <td>None</td>\n      <td>2</td>\n      <td>None</td>\n      <td>NaN</td>\n      <td>None</td>\n      <td>Belfast</td>\n      <td>The Chatham (site 4c), The Hamptons</td>\n      <td>Detached House</td>\n      <td>GOC Estate Agents</td>\n      <td>None</td>\n    </tr>\n  </tbody>\n</table>\n</div>"
     },
     "execution_count": 3,
     "metadata": {},
     "output_type": "execute_result"
    }
   ],
   "source": [
    "df.loc[df['Address'].str.contains('Hamptons')]"
   ],
   "metadata": {
    "collapsed": false,
    "ExecuteTime": {
     "end_time": "2023-11-20T14:27:26.190448500Z",
     "start_time": "2023-11-20T14:27:26.091155100Z"
    }
   }
  },
  {
   "cell_type": "markdown",
   "source": [
    "# After initial inspection we can see that there are several columns that will not add anything to our analysis so we will get rid of them. Additionally, there are columns where the values will need to be cleaned and null values addressed."
   ],
   "metadata": {
    "collapsed": false
   }
  },
  {
   "cell_type": "code",
   "execution_count": 4,
   "outputs": [],
   "source": [
    "# Dropping columns we don't need\n",
    "df = df.drop(columns=['Size', 'Open Viewing', 'Lot', 'Time', 'Status', 'Venue', 'Heating', 'Broadband'])\n",
    "\n",
    "# Removing the leading white space from the Postcode column\n",
    "df['Postcode'] = df['Postcode'].apply(lambda x: x.lstrip() if pd.notna(x) else x)"
   ],
   "metadata": {
    "collapsed": false,
    "ExecuteTime": {
     "end_time": "2023-11-20T14:27:27.874385Z",
     "start_time": "2023-11-20T14:27:27.864202Z"
    }
   }
  },
  {
   "cell_type": "markdown",
   "source": [
    "# It appears we have pulled in 'Belfast' in the postcode column, which clearly shouldn't be there. Rather than discarding these values I can see that the vast majority are in 'The Hamptons' and the 'Orchard Hall Apartments' thus I should be able to find a postcode for these properties and update the dataset."
   ],
   "metadata": {
    "collapsed": false
   }
  },
  {
   "cell_type": "code",
   "execution_count": 5,
   "outputs": [],
   "source": [
    "df['Postcode_number'] = np.where(df['Address'].str.contains('The Hamptons'), 'BT7', df['Postcode_number'])\n",
    "df['Postcode_number'] = np.where(df['Address'].str.contains('Orchard Hall'), 'BT4', df['Postcode_number'])\n",
    "df['Postcode_number'] = np.where(df['Address'].str.contains('The Admin Building'), 'BT8', df['Postcode_number'])\n",
    "df['Postcode_number'] = np.where(df['Address'].str.contains('Lesley Park Demesne'), 'BT9', df['Postcode_number'])"
   ],
   "metadata": {
    "collapsed": false,
    "ExecuteTime": {
     "end_time": "2023-11-20T14:27:29.072390500Z",
     "start_time": "2023-11-20T14:27:29.035072600Z"
    }
   }
  },
  {
   "cell_type": "code",
   "execution_count": 6,
   "outputs": [
    {
     "data": {
      "text/plain": "     Bathrooms             Postcode Bedrooms Rates Receptions  Price (£)  \\\n16           3              Belfast        5  None          2   499950.0   \n585       None              Belfast        4  None          1        NaN   \n603          2              Belfast        4  None          2   695000.0   \n617          2  Belfast City Centre        2  None          1   225000.0   \n889          3              Belfast        4  None          2   565000.0   \n932          1  Belfast City Centre        1  None          1   165000.0   \n1023         2              Belfast        2  None          1        NaN   \n\n     Postcode_number                                    Address  \\\n16           Belfast                      The Bracken, Ferndene   \n585          Belfast  The Willow, House Type S, Castlehill Wood   \n603          Belfast                      Phase 2, Madigan Hill   \n617          Belfast  Two Bedrooms, Coyles Place At Portland 88   \n889          Belfast                  The Pottinger, Baron Lane   \n932          Belfast   One Bedroom, Coyles Place At Portland 88   \n1023         Belfast        2 Bedroom Apartment, 100 Kings Road   \n\n                    Style                            Estate Agent  \\\n16         Detached House  Simon Brien Residential (East Belfast)   \n585   Semi-detached House  Simon Brien Residential (East Belfast)   \n603        Detached House             Marketed by multiple agents   \n617            Apartments                      Colliers New Homes   \n889        Detached House                      Colliers New Homes   \n932             Apartment                      Colliers New Homes   \n1023            Apartment             Marketed by multiple agents   \n\n     Belfast District  \n16               None  \n585              None  \n603              None  \n617              None  \n889              None  \n932              None  \n1023             None  ",
      "text/html": "<div>\n<style scoped>\n    .dataframe tbody tr th:only-of-type {\n        vertical-align: middle;\n    }\n\n    .dataframe tbody tr th {\n        vertical-align: top;\n    }\n\n    .dataframe thead th {\n        text-align: right;\n    }\n</style>\n<table border=\"1\" class=\"dataframe\">\n  <thead>\n    <tr style=\"text-align: right;\">\n      <th></th>\n      <th>Bathrooms</th>\n      <th>Postcode</th>\n      <th>Bedrooms</th>\n      <th>Rates</th>\n      <th>Receptions</th>\n      <th>Price (£)</th>\n      <th>Postcode_number</th>\n      <th>Address</th>\n      <th>Style</th>\n      <th>Estate Agent</th>\n      <th>Belfast District</th>\n    </tr>\n  </thead>\n  <tbody>\n    <tr>\n      <th>16</th>\n      <td>3</td>\n      <td>Belfast</td>\n      <td>5</td>\n      <td>None</td>\n      <td>2</td>\n      <td>499950.0</td>\n      <td>Belfast</td>\n      <td>The Bracken, Ferndene</td>\n      <td>Detached House</td>\n      <td>Simon Brien Residential (East Belfast)</td>\n      <td>None</td>\n    </tr>\n    <tr>\n      <th>585</th>\n      <td>None</td>\n      <td>Belfast</td>\n      <td>4</td>\n      <td>None</td>\n      <td>1</td>\n      <td>NaN</td>\n      <td>Belfast</td>\n      <td>The Willow, House Type S, Castlehill Wood</td>\n      <td>Semi-detached House</td>\n      <td>Simon Brien Residential (East Belfast)</td>\n      <td>None</td>\n    </tr>\n    <tr>\n      <th>603</th>\n      <td>2</td>\n      <td>Belfast</td>\n      <td>4</td>\n      <td>None</td>\n      <td>2</td>\n      <td>695000.0</td>\n      <td>Belfast</td>\n      <td>Phase 2, Madigan Hill</td>\n      <td>Detached House</td>\n      <td>Marketed by multiple agents</td>\n      <td>None</td>\n    </tr>\n    <tr>\n      <th>617</th>\n      <td>2</td>\n      <td>Belfast City Centre</td>\n      <td>2</td>\n      <td>None</td>\n      <td>1</td>\n      <td>225000.0</td>\n      <td>Belfast</td>\n      <td>Two Bedrooms, Coyles Place At Portland 88</td>\n      <td>Apartments</td>\n      <td>Colliers New Homes</td>\n      <td>None</td>\n    </tr>\n    <tr>\n      <th>889</th>\n      <td>3</td>\n      <td>Belfast</td>\n      <td>4</td>\n      <td>None</td>\n      <td>2</td>\n      <td>565000.0</td>\n      <td>Belfast</td>\n      <td>The Pottinger, Baron Lane</td>\n      <td>Detached House</td>\n      <td>Colliers New Homes</td>\n      <td>None</td>\n    </tr>\n    <tr>\n      <th>932</th>\n      <td>1</td>\n      <td>Belfast City Centre</td>\n      <td>1</td>\n      <td>None</td>\n      <td>1</td>\n      <td>165000.0</td>\n      <td>Belfast</td>\n      <td>One Bedroom, Coyles Place At Portland 88</td>\n      <td>Apartment</td>\n      <td>Colliers New Homes</td>\n      <td>None</td>\n    </tr>\n    <tr>\n      <th>1023</th>\n      <td>2</td>\n      <td>Belfast</td>\n      <td>2</td>\n      <td>None</td>\n      <td>1</td>\n      <td>NaN</td>\n      <td>Belfast</td>\n      <td>2 Bedroom Apartment, 100 Kings Road</td>\n      <td>Apartment</td>\n      <td>Marketed by multiple agents</td>\n      <td>None</td>\n    </tr>\n  </tbody>\n</table>\n</div>"
     },
     "execution_count": 6,
     "metadata": {},
     "output_type": "execute_result"
    }
   ],
   "source": [
    "# Now we will check to see how many postcodes say 'Belfast'\n",
    "df.loc[df['Postcode_number'] == 'Belfast']"
   ],
   "metadata": {
    "collapsed": false,
    "ExecuteTime": {
     "end_time": "2023-11-20T14:27:29.710638500Z",
     "start_time": "2023-11-20T14:27:29.642493900Z"
    }
   }
  },
  {
   "cell_type": "markdown",
   "source": [
    "# It would be possible to get a postcode for the remaining 7 properties by searching each individual address, instead, in the interest of time we will remove these properties from the dataset."
   ],
   "metadata": {
    "collapsed": false
   }
  },
  {
   "cell_type": "markdown",
   "source": [
    "# It would be interesting to compare how each estate agent is performing amongst one another so I will remove the office in parentheses."
   ],
   "metadata": {
    "collapsed": false
   }
  },
  {
   "cell_type": "code",
   "execution_count": 7,
   "outputs": [],
   "source": [
    "# Function to remove parentheses from estate agent\n",
    "def remove_parentheses(row):\n",
    "    return re.sub(r'\\([^)]*\\)', '', row)\n",
    "\n",
    "df['Estate Agent'] = df['Estate Agent'].apply(lambda x: remove_parentheses(x) if pd.notna(x) else x)"
   ],
   "metadata": {
    "collapsed": false,
    "ExecuteTime": {
     "end_time": "2023-11-20T14:27:31.396604400Z",
     "start_time": "2023-11-20T14:27:31.363528700Z"
    }
   }
  },
  {
   "cell_type": "code",
   "execution_count": 8,
   "outputs": [
    {
     "data": {
      "text/plain": "array(['Townhouse', 'Apartment', 'Semi-detached House', 'Detached House',\n       'Terrace House', 'Semi-detached Bungalow', 'End Townhouse',\n       'Mid-terrace House', '3rd Floor Apartment', 'Detached Villa',\n       'End-terrace House', 'House', 'Detached Bungalow',\n       'Ground Floor Apartment', 'Mid Townhouse', 'Apartments',\n       'Extended Mid-terrace', 'Semi-detached Villa', 'Duplex Apartment',\n       'Penthouse Apartment', '1st Floor Apartment', 'Ground Floor Flat',\n       'Detached Chalet', 'Apartment / Flat', 'Bungalow',\n       '2nd Floor Apartment', 'Semi-detached Chalet',\n       'Link-detached house', 'Detached Duplex Bungalow',\n       'Detached with annex', 'Detached Chalet Bungalow',\n       'House and Land', 'Semi-detached Chalet Bungalow', 'Duplex Flat',\n       'Flat'], dtype=object)"
     },
     "execution_count": 8,
     "metadata": {},
     "output_type": "execute_result"
    }
   ],
   "source": [
    "# Inspecting different property styles\n",
    "df['Style'].unique()"
   ],
   "metadata": {
    "collapsed": false,
    "ExecuteTime": {
     "end_time": "2023-11-20T14:27:32.019090600Z",
     "start_time": "2023-11-20T14:27:31.999008500Z"
    }
   }
  },
  {
   "cell_type": "markdown",
   "source": [
    "# After inspection, we can see that there are 35 different property styles in the dataset, this is far too many. For the sake of our analysis we would like to get this number down as a low as possible. To do this we will use the replace method available on strings to search for certain key words, for example the first line of code that follows searches for anything that starts or ends with the words 'flat' or 'apartment' and converts the value to just say 'Apartment'. This allows each style to be correctly grouped together within one style rather than existing across multiple styles for the sake of a few words. A similar approach is taken to other styles including: Detached, Semi-detached, Townhouse, Bungalow and Terrace."
   ],
   "metadata": {
    "collapsed": false
   }
  },
  {
   "cell_type": "code",
   "execution_count": 9,
   "outputs": [],
   "source": [
    "# Cleaning up styles\n",
    "df['Style'] = df['Style'].str.replace(r'.*(flat|apartment).*', 'Apartment', case=False, regex=True)\n",
    "df['Style'] = df['Style'].str.replace(r'.*(link|semi-detached).*', 'Semi-detached House', case=False, regex=True)\n",
    "df['Style'] = df['Style'].str.replace(r'.*(terrace).*', 'Terrace House', case=False, regex=True)\n",
    "df['Style'] = df['Style'].str.replace(r'.*(townhouse).*', 'Townhouse', case=False, regex=True)\n",
    "df['Style'] = df['Style'].str.replace(r'.*(bungalow).*', 'Bungalow', case=False, regex=True)\n",
    "df['Style'] = df['Style'].apply(lambda x: x.replace(x, 'Detached House') if x in ['Detached Villa', 'Detached Chalet', 'Detached with annex'] else x)\n",
    "\n",
    "# Finally because 'House' and 'House and Land' don't add to our analysis we will remove them from the dataset.\n",
    "styles_to_remove = ['House','House and Land']\n",
    "df = df[~df['Style'].isin(styles_to_remove)]"
   ],
   "metadata": {
    "collapsed": false,
    "ExecuteTime": {
     "end_time": "2023-11-20T14:27:33.101423600Z",
     "start_time": "2023-11-20T14:27:33.062005300Z"
    }
   }
  },
  {
   "cell_type": "code",
   "execution_count": 10,
   "outputs": [
    {
     "data": {
      "text/plain": "array(['Townhouse', 'Apartment', 'Semi-detached House', 'Detached House',\n       'Terrace House', 'Bungalow'], dtype=object)"
     },
     "execution_count": 10,
     "metadata": {},
     "output_type": "execute_result"
    }
   ],
   "source": [
    "df['Style'].unique()"
   ],
   "metadata": {
    "collapsed": false,
    "ExecuteTime": {
     "end_time": "2023-11-20T14:27:33.694909800Z",
     "start_time": "2023-11-20T14:27:33.659645200Z"
    }
   }
  },
  {
   "cell_type": "markdown",
   "source": [
    "# We now have a manageable number of property styles that we will use in our subsequent analysis."
   ],
   "metadata": {
    "collapsed": false
   }
  },
  {
   "cell_type": "markdown",
   "source": [
    "# The next stage is to investigate the Price column to see if we have any outliers that need addressed. Upon inspection there are a few outliers contained with this data, however, given the nature of this analysis I have chosen to only use a 10% - 90% quantile range as it is natural to expect higher and lower property values within certain postcode areas. Important to note that each quantile range is a reflection of the postcode number and style of property."
   ],
   "metadata": {
    "collapsed": false
   }
  },
  {
   "cell_type": "code",
   "execution_count": 11,
   "outputs": [
    {
     "data": {
      "text/plain": "   Postcode_number                Style        Q1        Q3\n0              BT1            Apartment  122500.0  407475.0\n1             BT10            Apartment  132980.0  204980.0\n2             BT10             Bungalow  325000.0  325000.0\n3             BT10       Detached House  260985.0  324985.0\n4             BT10  Semi-detached House  180980.0  290980.0\n..             ...                  ...       ...       ...\n79             BT9            Townhouse  168000.0  557000.0\n80         Belfast            Apartment  171000.0  219000.0\n81         Belfast       Detached House  512960.0  669000.0\n82         Belfast  Semi-detached House       NaN       NaN\n83       Carryduff       Detached House       NaN       NaN\n\n[84 rows x 4 columns]",
      "text/html": "<div>\n<style scoped>\n    .dataframe tbody tr th:only-of-type {\n        vertical-align: middle;\n    }\n\n    .dataframe tbody tr th {\n        vertical-align: top;\n    }\n\n    .dataframe thead th {\n        text-align: right;\n    }\n</style>\n<table border=\"1\" class=\"dataframe\">\n  <thead>\n    <tr style=\"text-align: right;\">\n      <th></th>\n      <th>Postcode_number</th>\n      <th>Style</th>\n      <th>Q1</th>\n      <th>Q3</th>\n    </tr>\n  </thead>\n  <tbody>\n    <tr>\n      <th>0</th>\n      <td>BT1</td>\n      <td>Apartment</td>\n      <td>122500.0</td>\n      <td>407475.0</td>\n    </tr>\n    <tr>\n      <th>1</th>\n      <td>BT10</td>\n      <td>Apartment</td>\n      <td>132980.0</td>\n      <td>204980.0</td>\n    </tr>\n    <tr>\n      <th>2</th>\n      <td>BT10</td>\n      <td>Bungalow</td>\n      <td>325000.0</td>\n      <td>325000.0</td>\n    </tr>\n    <tr>\n      <th>3</th>\n      <td>BT10</td>\n      <td>Detached House</td>\n      <td>260985.0</td>\n      <td>324985.0</td>\n    </tr>\n    <tr>\n      <th>4</th>\n      <td>BT10</td>\n      <td>Semi-detached House</td>\n      <td>180980.0</td>\n      <td>290980.0</td>\n    </tr>\n    <tr>\n      <th>...</th>\n      <td>...</td>\n      <td>...</td>\n      <td>...</td>\n      <td>...</td>\n    </tr>\n    <tr>\n      <th>79</th>\n      <td>BT9</td>\n      <td>Townhouse</td>\n      <td>168000.0</td>\n      <td>557000.0</td>\n    </tr>\n    <tr>\n      <th>80</th>\n      <td>Belfast</td>\n      <td>Apartment</td>\n      <td>171000.0</td>\n      <td>219000.0</td>\n    </tr>\n    <tr>\n      <th>81</th>\n      <td>Belfast</td>\n      <td>Detached House</td>\n      <td>512960.0</td>\n      <td>669000.0</td>\n    </tr>\n    <tr>\n      <th>82</th>\n      <td>Belfast</td>\n      <td>Semi-detached House</td>\n      <td>NaN</td>\n      <td>NaN</td>\n    </tr>\n    <tr>\n      <th>83</th>\n      <td>Carryduff</td>\n      <td>Detached House</td>\n      <td>NaN</td>\n      <td>NaN</td>\n    </tr>\n  </tbody>\n</table>\n<p>84 rows × 4 columns</p>\n</div>"
     },
     "execution_count": 11,
     "metadata": {},
     "output_type": "execute_result"
    }
   ],
   "source": [
    "# Remove Outliers\n",
    "# Calculate the IQR for each unique postcode\n",
    "iqr_per_postcode = pd.DataFrame(df.groupby(['Postcode_number','Style'])['Price (£)'].quantile([0.1, 0.9]).unstack()).reset_index()\n",
    "iqr_per_postcode.columns = ['Postcode_number','Style', 'Q1', 'Q3']\n",
    "iqr_per_postcode"
   ],
   "metadata": {
    "collapsed": false,
    "ExecuteTime": {
     "end_time": "2023-11-20T14:27:35.188325600Z",
     "start_time": "2023-11-20T14:27:35.151657500Z"
    }
   }
  },
  {
   "cell_type": "code",
   "execution_count": 12,
   "outputs": [],
   "source": [
    "# Merge the IQR values back into the original DataFrame\n",
    "df = df.merge(iqr_per_postcode, on=['Postcode_number','Style'])\n",
    "# Filter the rows based on the IQR values\n",
    "df = df[(df['Price (£)'] >= df['Q1']) & (df['Price (£)'] <= df['Q3'])]\n",
    "\n",
    "# Drop the 10% and 90% quantile columns\n",
    "df.drop(columns=['Q1','Q3'], inplace=True)"
   ],
   "metadata": {
    "collapsed": false,
    "ExecuteTime": {
     "end_time": "2023-11-20T14:27:35.713432100Z",
     "start_time": "2023-11-20T14:27:35.692413500Z"
    }
   }
  },
  {
   "cell_type": "markdown",
   "source": [
    "# The next stage is to deal with the null Rates values. I have decided to use the average rates for each property style within a postcode number. This ensures, for example, an apartment within BT4 gets a rates value that reflects another apartment in BT4 rather than a rates value that is distorted by a detached home in BT9."
   ],
   "metadata": {
    "collapsed": false
   }
  },
  {
   "cell_type": "code",
   "execution_count": 13,
   "outputs": [],
   "source": [
    "# Updating null rates values\n",
    "df['Rates'] = pd.to_numeric(df['Rates'], errors='coerce')\n",
    "avg_rates_by_group = df.groupby(['Postcode_number','Style'])['Rates'].mean().round(0)\n",
    "\n",
    "# Merge the average rates with the original DataFrame\n",
    "df = df.merge(avg_rates_by_group, on=['Postcode_number', 'Style'], how='left', suffixes=('', '_avg'))\n",
    "\n",
    "# Fill null values with the corresponding average rate\n",
    "df['Rates'].fillna(df['Rates_avg'], inplace=True)\n",
    "df.drop(columns=['Rates_avg'], inplace=True)\n"
   ],
   "metadata": {
    "collapsed": false,
    "ExecuteTime": {
     "end_time": "2023-11-20T14:27:36.885349700Z",
     "start_time": "2023-11-20T14:27:36.829736900Z"
    }
   }
  },
  {
   "cell_type": "markdown",
   "source": [
    "# The final bit of data cleansing we need to do is addressing the null bathrooms and receptions. Having looked at the data, its safe to assume that every detached and semi-detached has at least 1 reception and 1 bathroom, for any property that has 2 receptions it is likely that they also have 2 bathrooms."
   ],
   "metadata": {
    "collapsed": false
   }
  },
  {
   "cell_type": "code",
   "execution_count": 14,
   "outputs": [],
   "source": [
    "df.loc[(df['Receptions'] == '1') | (df['Receptions'].isna()) & (df['Bathrooms'].isna()), 'Bathrooms'] = '1'"
   ],
   "metadata": {
    "collapsed": false,
    "ExecuteTime": {
     "end_time": "2023-11-20T14:27:37.763138800Z",
     "start_time": "2023-11-20T14:27:37.737711900Z"
    }
   }
  },
  {
   "cell_type": "code",
   "execution_count": 15,
   "outputs": [],
   "source": [
    "df.loc[(df['Receptions'] == '2') & (df['Bathrooms'].isna()) & (df['Style'] != 'Apartment'), 'Bathrooms'] = '2'"
   ],
   "metadata": {
    "collapsed": false,
    "ExecuteTime": {
     "end_time": "2023-11-20T14:27:38.164574500Z",
     "start_time": "2023-11-20T14:27:38.147055300Z"
    }
   }
  },
  {
   "cell_type": "code",
   "execution_count": 16,
   "outputs": [],
   "source": [
    "# Assuming every house style has at least 1 reception and 1 bathroom\n",
    "df.loc[df['Receptions'].isna(), 'Receptions'] = '1'\n",
    "df.loc[df['Bathrooms'].isna(), 'Bathrooms'] = '1'"
   ],
   "metadata": {
    "collapsed": false,
    "ExecuteTime": {
     "end_time": "2023-11-20T14:27:38.586325400Z",
     "start_time": "2023-11-20T14:27:38.566128700Z"
    }
   }
  },
  {
   "cell_type": "code",
   "execution_count": 17,
   "outputs": [
    {
     "data": {
      "text/plain": "    Bathrooms  Postcode Bedrooms  Rates Receptions  Price (£) Postcode_number  \\\n275         3   Belfast        4    NaN          2   565000.0         Belfast   \n357         2   Belfast        4    NaN          2   865000.0             BT7   \n358         2   Belfast        4    NaN          2   865000.0             BT7   \n359         2   Belfast        4    NaN          2   835000.0             BT7   \n360         2   Belfast        4    NaN          2  1100000.0             BT7   \n361         2   Belfast        4    NaN          2  1100000.0             BT7   \n362         3   Belfast        4    NaN          2   835000.0             BT7   \n363         3   Belfast        4    NaN          2   835000.0             BT7   \n676         1  BT12 5GF        2    NaN          1   165000.0            BT12   \n\n                                  Address           Style        Estate Agent  \\\n275             The Pottinger, Baron Lane  Detached House  Colliers New Homes   \n357     The Deane (site 18), The Hamptons  Detached House   GOC Estate Agents   \n358     The Heath (site 32), The Hamptons  Detached House   GOC Estate Agents   \n359     The Heath (site 10), The Hamptons  Detached House   GOC Estate Agents   \n360  The Satchwell (site 9), The Hamptons  Detached House   GOC Estate Agents   \n361  The Satchwell (site 8), The Hamptons  Detached House   GOC Estate Agents   \n362     The Deane (site 3a), The Hamptons  Detached House   GOC Estate Agents   \n363      The Deane (site 3), The Hamptons  Detached House   GOC Estate Agents   \n676           Apartment 58 Victoria Place       Apartment                CPS    \n\n    Belfast District  \n275             None  \n357             None  \n358             None  \n359             None  \n360             None  \n361             None  \n362             None  \n363             None  \n676             West  ",
      "text/html": "<div>\n<style scoped>\n    .dataframe tbody tr th:only-of-type {\n        vertical-align: middle;\n    }\n\n    .dataframe tbody tr th {\n        vertical-align: top;\n    }\n\n    .dataframe thead th {\n        text-align: right;\n    }\n</style>\n<table border=\"1\" class=\"dataframe\">\n  <thead>\n    <tr style=\"text-align: right;\">\n      <th></th>\n      <th>Bathrooms</th>\n      <th>Postcode</th>\n      <th>Bedrooms</th>\n      <th>Rates</th>\n      <th>Receptions</th>\n      <th>Price (£)</th>\n      <th>Postcode_number</th>\n      <th>Address</th>\n      <th>Style</th>\n      <th>Estate Agent</th>\n      <th>Belfast District</th>\n    </tr>\n  </thead>\n  <tbody>\n    <tr>\n      <th>275</th>\n      <td>3</td>\n      <td>Belfast</td>\n      <td>4</td>\n      <td>NaN</td>\n      <td>2</td>\n      <td>565000.0</td>\n      <td>Belfast</td>\n      <td>The Pottinger, Baron Lane</td>\n      <td>Detached House</td>\n      <td>Colliers New Homes</td>\n      <td>None</td>\n    </tr>\n    <tr>\n      <th>357</th>\n      <td>2</td>\n      <td>Belfast</td>\n      <td>4</td>\n      <td>NaN</td>\n      <td>2</td>\n      <td>865000.0</td>\n      <td>BT7</td>\n      <td>The Deane (site 18), The Hamptons</td>\n      <td>Detached House</td>\n      <td>GOC Estate Agents</td>\n      <td>None</td>\n    </tr>\n    <tr>\n      <th>358</th>\n      <td>2</td>\n      <td>Belfast</td>\n      <td>4</td>\n      <td>NaN</td>\n      <td>2</td>\n      <td>865000.0</td>\n      <td>BT7</td>\n      <td>The Heath (site 32), The Hamptons</td>\n      <td>Detached House</td>\n      <td>GOC Estate Agents</td>\n      <td>None</td>\n    </tr>\n    <tr>\n      <th>359</th>\n      <td>2</td>\n      <td>Belfast</td>\n      <td>4</td>\n      <td>NaN</td>\n      <td>2</td>\n      <td>835000.0</td>\n      <td>BT7</td>\n      <td>The Heath (site 10), The Hamptons</td>\n      <td>Detached House</td>\n      <td>GOC Estate Agents</td>\n      <td>None</td>\n    </tr>\n    <tr>\n      <th>360</th>\n      <td>2</td>\n      <td>Belfast</td>\n      <td>4</td>\n      <td>NaN</td>\n      <td>2</td>\n      <td>1100000.0</td>\n      <td>BT7</td>\n      <td>The Satchwell (site 9), The Hamptons</td>\n      <td>Detached House</td>\n      <td>GOC Estate Agents</td>\n      <td>None</td>\n    </tr>\n    <tr>\n      <th>361</th>\n      <td>2</td>\n      <td>Belfast</td>\n      <td>4</td>\n      <td>NaN</td>\n      <td>2</td>\n      <td>1100000.0</td>\n      <td>BT7</td>\n      <td>The Satchwell (site 8), The Hamptons</td>\n      <td>Detached House</td>\n      <td>GOC Estate Agents</td>\n      <td>None</td>\n    </tr>\n    <tr>\n      <th>362</th>\n      <td>3</td>\n      <td>Belfast</td>\n      <td>4</td>\n      <td>NaN</td>\n      <td>2</td>\n      <td>835000.0</td>\n      <td>BT7</td>\n      <td>The Deane (site 3a), The Hamptons</td>\n      <td>Detached House</td>\n      <td>GOC Estate Agents</td>\n      <td>None</td>\n    </tr>\n    <tr>\n      <th>363</th>\n      <td>3</td>\n      <td>Belfast</td>\n      <td>4</td>\n      <td>NaN</td>\n      <td>2</td>\n      <td>835000.0</td>\n      <td>BT7</td>\n      <td>The Deane (site 3), The Hamptons</td>\n      <td>Detached House</td>\n      <td>GOC Estate Agents</td>\n      <td>None</td>\n    </tr>\n    <tr>\n      <th>676</th>\n      <td>1</td>\n      <td>BT12 5GF</td>\n      <td>2</td>\n      <td>NaN</td>\n      <td>1</td>\n      <td>165000.0</td>\n      <td>BT12</td>\n      <td>Apartment 58 Victoria Place</td>\n      <td>Apartment</td>\n      <td>CPS</td>\n      <td>West</td>\n    </tr>\n  </tbody>\n</table>\n</div>"
     },
     "execution_count": 17,
     "metadata": {},
     "output_type": "execute_result"
    }
   ],
   "source": [
    "df.loc[df['Rates'].isna()] ### Need to fix this"
   ],
   "metadata": {
    "collapsed": false,
    "ExecuteTime": {
     "end_time": "2023-11-20T14:27:38.997918500Z",
     "start_time": "2023-11-20T14:27:38.972717Z"
    }
   }
  },
  {
   "cell_type": "code",
   "execution_count": 18,
   "outputs": [
    {
     "data": {
      "text/plain": "Postcode_number  Style              \nBT1              Apartment              1174.0\nBT10             Apartment              1000.0\n                 Bungalow               1652.0\n                 Detached House         1913.0\n                 Semi-detached House    1313.0\n                                         ...  \nBT9              Detached House         3397.0\n                 Semi-detached House    3000.0\n                 Terrace House          1251.0\n                 Townhouse              2269.0\nBelfast          Detached House            NaN\nName: Rates, Length: 78, dtype: float64"
     },
     "execution_count": 18,
     "metadata": {},
     "output_type": "execute_result"
    }
   ],
   "source": [
    "avg_rates_by_group"
   ],
   "metadata": {
    "collapsed": false,
    "ExecuteTime": {
     "end_time": "2023-11-20T14:27:39.389748600Z",
     "start_time": "2023-11-20T14:27:39.367227400Z"
    }
   }
  },
  {
   "cell_type": "markdown",
   "source": [
    "#                                                                    ANALYSIS\n",
    "\n",
    "\n",
    "\n",
    "\n",
    "\n",
    "\n",
    "\n",
    "\n",
    "\n"
   ],
   "metadata": {
    "collapsed": false
   }
  },
  {
   "cell_type": "code",
   "execution_count": 19,
   "outputs": [
    {
     "data": {
      "text/plain": "    Bathrooms  Postcode Bedrooms    Rates Receptions  Price (£)  \\\n0           2   BT8 8FX        4  1652.05          2   335000.0   \n1           1   BT8 8GU        3  1129.41          1   229950.0   \n2           2   BT8 8FX        4  1652.05          2   335000.0   \n3           1   BT8 7YG        2  1045.75          1   169000.0   \n4           1   BT8 6BA        4  1882.35          1   245000.0   \n..        ...       ...      ...      ...        ...        ...   \n772         1  BT36 7EY        2   586.91          2    79950.0   \n773         1  BT14 6LF        4   630.39          2   119950.0   \n774         1  BT11 9QW        2   652.13          1   129950.0   \n775         3  BT17 0JE        5  3043.25          3   399950.0   \n776         1   BT9 5HF        3  2130.28          2   345000.0   \n\n    Postcode_number                Address                Style  \\\n0               BT8       5 Haddo Crescent            Townhouse   \n1               BT8         84 The Demesne            Townhouse   \n2               BT8       5 Haddo Crescent            Townhouse   \n3               BT8  17 Greer Park Heights            Townhouse   \n4               BT8  5 Croft Hill Cottages            Townhouse   \n..              ...                    ...                  ...   \n772            BT36    17 Voltaire Gardens  Semi-detached House   \n773            BT14    19 Clifton Crescent            Townhouse   \n774            BT11   10 Gweedore Crescent            Townhouse   \n775            BT17  11 Glengoland Gardens             Bungalow   \n776             BT9      6 Marylebone Park             Bungalow   \n\n                    Estate Agent  Belfast District  \n0         Ulster Property Sales              South  \n1         Ulster Property Sales              South  \n2         Ulster Property Sales              South  \n3                   Fetherstons              South  \n4         Ulster Property Sales              South  \n..                           ...               ...  \n772            Pinpoint Property              None  \n773  House To Home Estate Agents        North-West  \n774       Ulster Property Sales               West  \n775       Ulster Property Sales   South/South-West  \n776       Ulster Property Sales              South  \n\n[777 rows x 11 columns]",
      "text/html": "<div>\n<style scoped>\n    .dataframe tbody tr th:only-of-type {\n        vertical-align: middle;\n    }\n\n    .dataframe tbody tr th {\n        vertical-align: top;\n    }\n\n    .dataframe thead th {\n        text-align: right;\n    }\n</style>\n<table border=\"1\" class=\"dataframe\">\n  <thead>\n    <tr style=\"text-align: right;\">\n      <th></th>\n      <th>Bathrooms</th>\n      <th>Postcode</th>\n      <th>Bedrooms</th>\n      <th>Rates</th>\n      <th>Receptions</th>\n      <th>Price (£)</th>\n      <th>Postcode_number</th>\n      <th>Address</th>\n      <th>Style</th>\n      <th>Estate Agent</th>\n      <th>Belfast District</th>\n    </tr>\n  </thead>\n  <tbody>\n    <tr>\n      <th>0</th>\n      <td>2</td>\n      <td>BT8 8FX</td>\n      <td>4</td>\n      <td>1652.05</td>\n      <td>2</td>\n      <td>335000.0</td>\n      <td>BT8</td>\n      <td>5 Haddo Crescent</td>\n      <td>Townhouse</td>\n      <td>Ulster Property Sales</td>\n      <td>South</td>\n    </tr>\n    <tr>\n      <th>1</th>\n      <td>1</td>\n      <td>BT8 8GU</td>\n      <td>3</td>\n      <td>1129.41</td>\n      <td>1</td>\n      <td>229950.0</td>\n      <td>BT8</td>\n      <td>84 The Demesne</td>\n      <td>Townhouse</td>\n      <td>Ulster Property Sales</td>\n      <td>South</td>\n    </tr>\n    <tr>\n      <th>2</th>\n      <td>2</td>\n      <td>BT8 8FX</td>\n      <td>4</td>\n      <td>1652.05</td>\n      <td>2</td>\n      <td>335000.0</td>\n      <td>BT8</td>\n      <td>5 Haddo Crescent</td>\n      <td>Townhouse</td>\n      <td>Ulster Property Sales</td>\n      <td>South</td>\n    </tr>\n    <tr>\n      <th>3</th>\n      <td>1</td>\n      <td>BT8 7YG</td>\n      <td>2</td>\n      <td>1045.75</td>\n      <td>1</td>\n      <td>169000.0</td>\n      <td>BT8</td>\n      <td>17 Greer Park Heights</td>\n      <td>Townhouse</td>\n      <td>Fetherstons</td>\n      <td>South</td>\n    </tr>\n    <tr>\n      <th>4</th>\n      <td>1</td>\n      <td>BT8 6BA</td>\n      <td>4</td>\n      <td>1882.35</td>\n      <td>1</td>\n      <td>245000.0</td>\n      <td>BT8</td>\n      <td>5 Croft Hill Cottages</td>\n      <td>Townhouse</td>\n      <td>Ulster Property Sales</td>\n      <td>South</td>\n    </tr>\n    <tr>\n      <th>...</th>\n      <td>...</td>\n      <td>...</td>\n      <td>...</td>\n      <td>...</td>\n      <td>...</td>\n      <td>...</td>\n      <td>...</td>\n      <td>...</td>\n      <td>...</td>\n      <td>...</td>\n      <td>...</td>\n    </tr>\n    <tr>\n      <th>772</th>\n      <td>1</td>\n      <td>BT36 7EY</td>\n      <td>2</td>\n      <td>586.91</td>\n      <td>2</td>\n      <td>79950.0</td>\n      <td>BT36</td>\n      <td>17 Voltaire Gardens</td>\n      <td>Semi-detached House</td>\n      <td>Pinpoint Property</td>\n      <td>None</td>\n    </tr>\n    <tr>\n      <th>773</th>\n      <td>1</td>\n      <td>BT14 6LF</td>\n      <td>4</td>\n      <td>630.39</td>\n      <td>2</td>\n      <td>119950.0</td>\n      <td>BT14</td>\n      <td>19 Clifton Crescent</td>\n      <td>Townhouse</td>\n      <td>House To Home Estate Agents</td>\n      <td>North-West</td>\n    </tr>\n    <tr>\n      <th>774</th>\n      <td>1</td>\n      <td>BT11 9QW</td>\n      <td>2</td>\n      <td>652.13</td>\n      <td>1</td>\n      <td>129950.0</td>\n      <td>BT11</td>\n      <td>10 Gweedore Crescent</td>\n      <td>Townhouse</td>\n      <td>Ulster Property Sales</td>\n      <td>West</td>\n    </tr>\n    <tr>\n      <th>775</th>\n      <td>3</td>\n      <td>BT17 0JE</td>\n      <td>5</td>\n      <td>3043.25</td>\n      <td>3</td>\n      <td>399950.0</td>\n      <td>BT17</td>\n      <td>11 Glengoland Gardens</td>\n      <td>Bungalow</td>\n      <td>Ulster Property Sales</td>\n      <td>South/South-West</td>\n    </tr>\n    <tr>\n      <th>776</th>\n      <td>1</td>\n      <td>BT9 5HF</td>\n      <td>3</td>\n      <td>2130.28</td>\n      <td>2</td>\n      <td>345000.0</td>\n      <td>BT9</td>\n      <td>6 Marylebone Park</td>\n      <td>Bungalow</td>\n      <td>Ulster Property Sales</td>\n      <td>South</td>\n    </tr>\n  </tbody>\n</table>\n<p>777 rows × 11 columns</p>\n</div>"
     },
     "execution_count": 19,
     "metadata": {},
     "output_type": "execute_result"
    }
   ],
   "source": [
    "df"
   ],
   "metadata": {
    "collapsed": false,
    "ExecuteTime": {
     "end_time": "2023-11-20T14:27:43.016739100Z",
     "start_time": "2023-11-20T14:27:42.971619Z"
    }
   }
  },
  {
   "cell_type": "code",
   "execution_count": 21,
   "outputs": [],
   "source": [
    "# Enrich data by bringing in the Longitude and Latitude"
   ],
   "metadata": {
    "collapsed": false,
    "ExecuteTime": {
     "end_time": "2023-11-14T11:07:06.370810300Z",
     "start_time": "2023-11-14T11:07:06.368757600Z"
    }
   }
  },
  {
   "cell_type": "code",
   "execution_count": 22,
   "outputs": [
    {
     "data": {
      "text/plain": "777"
     },
     "execution_count": 22,
     "metadata": {},
     "output_type": "execute_result"
    }
   ],
   "source": [
    "# Final number of properties\n",
    "len(df)"
   ],
   "metadata": {
    "collapsed": false,
    "ExecuteTime": {
     "end_time": "2023-11-14T11:07:06.902835100Z",
     "start_time": "2023-11-14T11:07:06.874726200Z"
    }
   }
  },
  {
   "cell_type": "code",
   "execution_count": 23,
   "outputs": [
    {
     "data": {
      "text/plain": "Style\nTerrace House          222\nSemi-detached House    208\nApartment              160\nDetached House         138\nTownhouse               35\nBungalow                14\nName: count, dtype: int64"
     },
     "execution_count": 23,
     "metadata": {},
     "output_type": "execute_result"
    }
   ],
   "source": [
    "# Breakdown of each style\n",
    "df['Style'].value_counts()"
   ],
   "metadata": {
    "collapsed": false,
    "ExecuteTime": {
     "end_time": "2023-11-14T11:07:07.633146800Z",
     "start_time": "2023-11-14T11:07:07.619303600Z"
    }
   }
  },
  {
   "cell_type": "code",
   "execution_count": null,
   "outputs": [],
   "source": [
    "# Bringing in longitude and latitude data"
   ],
   "metadata": {
    "collapsed": false
   }
  },
  {
   "cell_type": "code",
   "execution_count": null,
   "outputs": [],
   "source": [],
   "metadata": {
    "collapsed": false
   }
  },
  {
   "cell_type": "code",
   "execution_count": 34,
   "outputs": [],
   "source": [
    "lon_lat_df = pd.read_csv('ni_postcodes.csv')"
   ],
   "metadata": {
    "collapsed": false,
    "ExecuteTime": {
     "end_time": "2023-11-20T15:21:12.428814700Z",
     "start_time": "2023-11-20T15:21:12.366392900Z"
    }
   }
  },
  {
   "cell_type": "code",
   "execution_count": 35,
   "outputs": [],
   "source": [
    "lon_lat_df = lon_lat_df.iloc[:,2:]"
   ],
   "metadata": {
    "collapsed": false,
    "ExecuteTime": {
     "end_time": "2023-11-20T15:21:12.970107300Z",
     "start_time": "2023-11-20T15:21:12.943647700Z"
    }
   }
  },
  {
   "cell_type": "code",
   "execution_count": 36,
   "outputs": [
    {
     "data": {
      "text/plain": "       postcode   latitude  longitude\n0      BT70 3NY  54.512217  -6.831684\n1       BT4 1PW  54.602653  -5.878404\n2       BT9 5PG  54.552294  -5.969607\n3      BT39 9TS  54.777369  -5.952764\n4       BT5 6ED  54.591760  -5.871559\n...         ...        ...        ...\n49938  BT79 7ZJ  54.717834  -7.150987\n49939   BT8 8SJ  54.508324  -5.897766\n49940   BT8 8SL  54.508324  -5.897766\n49941  BT80 8FU  54.653950  -6.745192\n49942  BT82 9GR  54.820790  -7.487115\n\n[49943 rows x 3 columns]",
      "text/html": "<div>\n<style scoped>\n    .dataframe tbody tr th:only-of-type {\n        vertical-align: middle;\n    }\n\n    .dataframe tbody tr th {\n        vertical-align: top;\n    }\n\n    .dataframe thead th {\n        text-align: right;\n    }\n</style>\n<table border=\"1\" class=\"dataframe\">\n  <thead>\n    <tr style=\"text-align: right;\">\n      <th></th>\n      <th>postcode</th>\n      <th>latitude</th>\n      <th>longitude</th>\n    </tr>\n  </thead>\n  <tbody>\n    <tr>\n      <th>0</th>\n      <td>BT70 3NY</td>\n      <td>54.512217</td>\n      <td>-6.831684</td>\n    </tr>\n    <tr>\n      <th>1</th>\n      <td>BT4 1PW</td>\n      <td>54.602653</td>\n      <td>-5.878404</td>\n    </tr>\n    <tr>\n      <th>2</th>\n      <td>BT9 5PG</td>\n      <td>54.552294</td>\n      <td>-5.969607</td>\n    </tr>\n    <tr>\n      <th>3</th>\n      <td>BT39 9TS</td>\n      <td>54.777369</td>\n      <td>-5.952764</td>\n    </tr>\n    <tr>\n      <th>4</th>\n      <td>BT5 6ED</td>\n      <td>54.591760</td>\n      <td>-5.871559</td>\n    </tr>\n    <tr>\n      <th>...</th>\n      <td>...</td>\n      <td>...</td>\n      <td>...</td>\n    </tr>\n    <tr>\n      <th>49938</th>\n      <td>BT79 7ZJ</td>\n      <td>54.717834</td>\n      <td>-7.150987</td>\n    </tr>\n    <tr>\n      <th>49939</th>\n      <td>BT8 8SJ</td>\n      <td>54.508324</td>\n      <td>-5.897766</td>\n    </tr>\n    <tr>\n      <th>49940</th>\n      <td>BT8 8SL</td>\n      <td>54.508324</td>\n      <td>-5.897766</td>\n    </tr>\n    <tr>\n      <th>49941</th>\n      <td>BT80 8FU</td>\n      <td>54.653950</td>\n      <td>-6.745192</td>\n    </tr>\n    <tr>\n      <th>49942</th>\n      <td>BT82 9GR</td>\n      <td>54.820790</td>\n      <td>-7.487115</td>\n    </tr>\n  </tbody>\n</table>\n<p>49943 rows × 3 columns</p>\n</div>"
     },
     "execution_count": 36,
     "metadata": {},
     "output_type": "execute_result"
    }
   ],
   "source": [
    "lon_lat_df"
   ],
   "metadata": {
    "collapsed": false,
    "ExecuteTime": {
     "end_time": "2023-11-20T15:21:13.588081800Z",
     "start_time": "2023-11-20T15:21:13.557564500Z"
    }
   }
  },
  {
   "cell_type": "code",
   "execution_count": 37,
   "outputs": [
    {
     "data": {
      "text/plain": "    Bathrooms  Postcode Bedrooms    Rates Receptions  Price (£)  \\\n0           2   BT8 8FX        4  1652.05          2   335000.0   \n1           1   BT8 8GU        3  1129.41          1   229950.0   \n2           2   BT8 8FX        4  1652.05          2   335000.0   \n3           1   BT8 7YG        2  1045.75          1   169000.0   \n4           1   BT8 6BA        4  1882.35          1   245000.0   \n..        ...       ...      ...      ...        ...        ...   \n772         1  BT36 7EY        2   586.91          2    79950.0   \n773         1  BT14 6LF        4   630.39          2   119950.0   \n774         1  BT11 9QW        2   652.13          1   129950.0   \n775         3  BT17 0JE        5  3043.25          3   399950.0   \n776         1   BT9 5HF        3  2130.28          2   345000.0   \n\n    Postcode_number                Address                Style  \\\n0               BT8       5 Haddo Crescent            Townhouse   \n1               BT8         84 The Demesne            Townhouse   \n2               BT8       5 Haddo Crescent            Townhouse   \n3               BT8  17 Greer Park Heights            Townhouse   \n4               BT8  5 Croft Hill Cottages            Townhouse   \n..              ...                    ...                  ...   \n772            BT36    17 Voltaire Gardens  Semi-detached House   \n773            BT14    19 Clifton Crescent            Townhouse   \n774            BT11   10 Gweedore Crescent            Townhouse   \n775            BT17  11 Glengoland Gardens             Bungalow   \n776             BT9      6 Marylebone Park             Bungalow   \n\n                    Estate Agent  Belfast District  \n0         Ulster Property Sales              South  \n1         Ulster Property Sales              South  \n2         Ulster Property Sales              South  \n3                   Fetherstons              South  \n4         Ulster Property Sales              South  \n..                           ...               ...  \n772            Pinpoint Property              None  \n773  House To Home Estate Agents        North-West  \n774       Ulster Property Sales               West  \n775       Ulster Property Sales   South/South-West  \n776       Ulster Property Sales              South  \n\n[777 rows x 11 columns]",
      "text/html": "<div>\n<style scoped>\n    .dataframe tbody tr th:only-of-type {\n        vertical-align: middle;\n    }\n\n    .dataframe tbody tr th {\n        vertical-align: top;\n    }\n\n    .dataframe thead th {\n        text-align: right;\n    }\n</style>\n<table border=\"1\" class=\"dataframe\">\n  <thead>\n    <tr style=\"text-align: right;\">\n      <th></th>\n      <th>Bathrooms</th>\n      <th>Postcode</th>\n      <th>Bedrooms</th>\n      <th>Rates</th>\n      <th>Receptions</th>\n      <th>Price (£)</th>\n      <th>Postcode_number</th>\n      <th>Address</th>\n      <th>Style</th>\n      <th>Estate Agent</th>\n      <th>Belfast District</th>\n    </tr>\n  </thead>\n  <tbody>\n    <tr>\n      <th>0</th>\n      <td>2</td>\n      <td>BT8 8FX</td>\n      <td>4</td>\n      <td>1652.05</td>\n      <td>2</td>\n      <td>335000.0</td>\n      <td>BT8</td>\n      <td>5 Haddo Crescent</td>\n      <td>Townhouse</td>\n      <td>Ulster Property Sales</td>\n      <td>South</td>\n    </tr>\n    <tr>\n      <th>1</th>\n      <td>1</td>\n      <td>BT8 8GU</td>\n      <td>3</td>\n      <td>1129.41</td>\n      <td>1</td>\n      <td>229950.0</td>\n      <td>BT8</td>\n      <td>84 The Demesne</td>\n      <td>Townhouse</td>\n      <td>Ulster Property Sales</td>\n      <td>South</td>\n    </tr>\n    <tr>\n      <th>2</th>\n      <td>2</td>\n      <td>BT8 8FX</td>\n      <td>4</td>\n      <td>1652.05</td>\n      <td>2</td>\n      <td>335000.0</td>\n      <td>BT8</td>\n      <td>5 Haddo Crescent</td>\n      <td>Townhouse</td>\n      <td>Ulster Property Sales</td>\n      <td>South</td>\n    </tr>\n    <tr>\n      <th>3</th>\n      <td>1</td>\n      <td>BT8 7YG</td>\n      <td>2</td>\n      <td>1045.75</td>\n      <td>1</td>\n      <td>169000.0</td>\n      <td>BT8</td>\n      <td>17 Greer Park Heights</td>\n      <td>Townhouse</td>\n      <td>Fetherstons</td>\n      <td>South</td>\n    </tr>\n    <tr>\n      <th>4</th>\n      <td>1</td>\n      <td>BT8 6BA</td>\n      <td>4</td>\n      <td>1882.35</td>\n      <td>1</td>\n      <td>245000.0</td>\n      <td>BT8</td>\n      <td>5 Croft Hill Cottages</td>\n      <td>Townhouse</td>\n      <td>Ulster Property Sales</td>\n      <td>South</td>\n    </tr>\n    <tr>\n      <th>...</th>\n      <td>...</td>\n      <td>...</td>\n      <td>...</td>\n      <td>...</td>\n      <td>...</td>\n      <td>...</td>\n      <td>...</td>\n      <td>...</td>\n      <td>...</td>\n      <td>...</td>\n      <td>...</td>\n    </tr>\n    <tr>\n      <th>772</th>\n      <td>1</td>\n      <td>BT36 7EY</td>\n      <td>2</td>\n      <td>586.91</td>\n      <td>2</td>\n      <td>79950.0</td>\n      <td>BT36</td>\n      <td>17 Voltaire Gardens</td>\n      <td>Semi-detached House</td>\n      <td>Pinpoint Property</td>\n      <td>None</td>\n    </tr>\n    <tr>\n      <th>773</th>\n      <td>1</td>\n      <td>BT14 6LF</td>\n      <td>4</td>\n      <td>630.39</td>\n      <td>2</td>\n      <td>119950.0</td>\n      <td>BT14</td>\n      <td>19 Clifton Crescent</td>\n      <td>Townhouse</td>\n      <td>House To Home Estate Agents</td>\n      <td>North-West</td>\n    </tr>\n    <tr>\n      <th>774</th>\n      <td>1</td>\n      <td>BT11 9QW</td>\n      <td>2</td>\n      <td>652.13</td>\n      <td>1</td>\n      <td>129950.0</td>\n      <td>BT11</td>\n      <td>10 Gweedore Crescent</td>\n      <td>Townhouse</td>\n      <td>Ulster Property Sales</td>\n      <td>West</td>\n    </tr>\n    <tr>\n      <th>775</th>\n      <td>3</td>\n      <td>BT17 0JE</td>\n      <td>5</td>\n      <td>3043.25</td>\n      <td>3</td>\n      <td>399950.0</td>\n      <td>BT17</td>\n      <td>11 Glengoland Gardens</td>\n      <td>Bungalow</td>\n      <td>Ulster Property Sales</td>\n      <td>South/South-West</td>\n    </tr>\n    <tr>\n      <th>776</th>\n      <td>1</td>\n      <td>BT9 5HF</td>\n      <td>3</td>\n      <td>2130.28</td>\n      <td>2</td>\n      <td>345000.0</td>\n      <td>BT9</td>\n      <td>6 Marylebone Park</td>\n      <td>Bungalow</td>\n      <td>Ulster Property Sales</td>\n      <td>South</td>\n    </tr>\n  </tbody>\n</table>\n<p>777 rows × 11 columns</p>\n</div>"
     },
     "execution_count": 37,
     "metadata": {},
     "output_type": "execute_result"
    }
   ],
   "source": [
    "df"
   ],
   "metadata": {
    "collapsed": false,
    "ExecuteTime": {
     "end_time": "2023-11-20T15:23:05.155072Z",
     "start_time": "2023-11-20T15:23:05.117681100Z"
    }
   }
  },
  {
   "cell_type": "code",
   "execution_count": 38,
   "outputs": [],
   "source": [
    "merged_df = pd.merge(df,\n",
    "                     lon_lat_df,\n",
    "                     left_on='Postcode',\n",
    "                     right_on='postcode',\n",
    "                     how='inner')"
   ],
   "metadata": {
    "collapsed": false,
    "ExecuteTime": {
     "end_time": "2023-11-20T15:23:22.966666100Z",
     "start_time": "2023-11-20T15:23:22.923204100Z"
    }
   }
  },
  {
   "cell_type": "code",
   "execution_count": 52,
   "outputs": [],
   "source": [
    "merged_df['Bedrooms'] = pd.to_numeric(df['Bedrooms'], errors='coerce')\n",
    "merged_df.drop(columns={'postcode'}, inplace=True)"
   ],
   "metadata": {
    "collapsed": false,
    "ExecuteTime": {
     "end_time": "2023-11-20T15:37:09.118489600Z",
     "start_time": "2023-11-20T15:37:09.091940800Z"
    }
   }
  },
  {
   "cell_type": "code",
   "execution_count": 79,
   "outputs": [],
   "source": [
    "merged_df.to_csv('merged_df.csv')"
   ],
   "metadata": {
    "collapsed": false,
    "ExecuteTime": {
     "end_time": "2023-11-20T16:02:20.499479300Z",
     "start_time": "2023-11-20T16:02:20.460859500Z"
    }
   }
  },
  {
   "cell_type": "code",
   "execution_count": 42,
   "outputs": [
    {
     "data": {
      "text/plain": "Style\nTerrace House          222\nSemi-detached House    208\nApartment              146\nDetached House         126\nTownhouse               35\nBungalow                14\nName: count, dtype: int64"
     },
     "execution_count": 42,
     "metadata": {},
     "output_type": "execute_result"
    }
   ],
   "source": [
    "# Breakdown of each style\n",
    "merged_df['Style'].value_counts()"
   ],
   "metadata": {
    "collapsed": false,
    "ExecuteTime": {
     "end_time": "2023-11-20T15:25:39.703178800Z",
     "start_time": "2023-11-20T15:25:39.674248400Z"
    }
   }
  },
  {
   "cell_type": "markdown",
   "source": [
    "# We can see that Terrace and Semi-Detached Houses are the two most popular property types in our dataset. Starting with the Terrace house we will investigate what's on offer across the different Belfast districts and what we can expect price wise."
   ],
   "metadata": {
    "collapsed": false
   }
  },
  {
   "cell_type": "code",
   "execution_count": 60,
   "outputs": [],
   "source": [
    "terrace_df = merged_df.loc[merged_df['Style'] == 'Terrace House']"
   ],
   "metadata": {
    "collapsed": false,
    "ExecuteTime": {
     "end_time": "2023-11-20T15:40:05.045163600Z",
     "start_time": "2023-11-20T15:40:05.015062600Z"
    }
   }
  },
  {
   "cell_type": "code",
   "execution_count": 61,
   "outputs": [
    {
     "data": {
      "text/plain": "    Bathrooms  Postcode  Bedrooms    Rates Receptions  Price (£)  \\\n149         1   BT9 7FH       2.0  1304.25          1   165000.0   \n150         1   BT9 7FH       2.0  1130.35          2   150000.0   \n173         1  BT12 7PL       3.0   717.34          1   104950.0   \n174         1  BT12 7LX       3.0   739.08          1    99950.0   \n175         1  BT12 4AG       3.0   717.34          1   114950.0   \n..        ...       ...       ...      ...        ...        ...   \n734         1  BT11 9AQ       3.0   695.60          1   119950.0   \n735         1  BT11 9AQ       3.0   695.60          1   129950.0   \n736         1  BT11 8NB       2.0   782.55          1   169950.0   \n737         1  BT11 8QU       2.0  1086.88          1   179950.0   \n738         1  BT11 8LT       2.0   869.50          1   149950.0   \n\n    Postcode_number               Address          Style  \\\n149             BT9      34 Windsor Drive  Terrace House   \n150             BT9      17 Windsor Drive  Terrace House   \n173            BT12     35 Brittons Drive  Terrace House   \n174            BT12  66 Beechmount Parade  Terrace House   \n175            BT12        43 John Street  Terrace House   \n..              ...                   ...            ...   \n734            BT11    181 Stockmans Lane  Terrace House   \n735            BT11    179 Stockmans Lane  Terrace House   \n736            BT11       19 Tullagh Park  Terrace House   \n737            BT11    6 Airfield Heights  Terrace House   \n738            BT11     15 Edenmore Drive  Terrace House   \n\n                      Estate Agent Belfast District  postcode   latitude  \\\n149            360 Residential Ltd            South   BT9 7FH  54.581070   \n150          McGeown Estate Agents            South   BT9 7FH  54.581070   \n173          NorthernProperty.com              West  BT12 7PL  54.592821   \n174          NorthernProperty.com              West  BT12 7LX  54.592948   \n175          NorthernProperty.com              West  BT12 4AG  54.598849   \n..                             ...              ...       ...        ...   \n734          NorthernProperty.com              West  BT11 9AQ  54.574049   \n735         Ulster Property Sales              West  BT11 9AQ  54.574049   \n736         Ulster Property Sales              West  BT11 8NB  54.577411   \n737  McGranaghan Estate Agents.com             West  BT11 8QU  54.581533   \n738         Ulster Property Sales              West  BT11 8LT  54.575733   \n\n     longitude  \n149  -5.951873  \n150  -5.951873  \n173  -5.974213  \n174  -5.966780  \n175  -5.937439  \n..         ...  \n734  -5.979939  \n735  -5.979939  \n736  -6.003886  \n737  -5.998629  \n738  -5.999409  \n\n[222 rows x 14 columns]",
      "text/html": "<div>\n<style scoped>\n    .dataframe tbody tr th:only-of-type {\n        vertical-align: middle;\n    }\n\n    .dataframe tbody tr th {\n        vertical-align: top;\n    }\n\n    .dataframe thead th {\n        text-align: right;\n    }\n</style>\n<table border=\"1\" class=\"dataframe\">\n  <thead>\n    <tr style=\"text-align: right;\">\n      <th></th>\n      <th>Bathrooms</th>\n      <th>Postcode</th>\n      <th>Bedrooms</th>\n      <th>Rates</th>\n      <th>Receptions</th>\n      <th>Price (£)</th>\n      <th>Postcode_number</th>\n      <th>Address</th>\n      <th>Style</th>\n      <th>Estate Agent</th>\n      <th>Belfast District</th>\n      <th>postcode</th>\n      <th>latitude</th>\n      <th>longitude</th>\n    </tr>\n  </thead>\n  <tbody>\n    <tr>\n      <th>149</th>\n      <td>1</td>\n      <td>BT9 7FH</td>\n      <td>2.0</td>\n      <td>1304.25</td>\n      <td>1</td>\n      <td>165000.0</td>\n      <td>BT9</td>\n      <td>34 Windsor Drive</td>\n      <td>Terrace House</td>\n      <td>360 Residential Ltd</td>\n      <td>South</td>\n      <td>BT9 7FH</td>\n      <td>54.581070</td>\n      <td>-5.951873</td>\n    </tr>\n    <tr>\n      <th>150</th>\n      <td>1</td>\n      <td>BT9 7FH</td>\n      <td>2.0</td>\n      <td>1130.35</td>\n      <td>2</td>\n      <td>150000.0</td>\n      <td>BT9</td>\n      <td>17 Windsor Drive</td>\n      <td>Terrace House</td>\n      <td>McGeown Estate Agents</td>\n      <td>South</td>\n      <td>BT9 7FH</td>\n      <td>54.581070</td>\n      <td>-5.951873</td>\n    </tr>\n    <tr>\n      <th>173</th>\n      <td>1</td>\n      <td>BT12 7PL</td>\n      <td>3.0</td>\n      <td>717.34</td>\n      <td>1</td>\n      <td>104950.0</td>\n      <td>BT12</td>\n      <td>35 Brittons Drive</td>\n      <td>Terrace House</td>\n      <td>NorthernProperty.com</td>\n      <td>West</td>\n      <td>BT12 7PL</td>\n      <td>54.592821</td>\n      <td>-5.974213</td>\n    </tr>\n    <tr>\n      <th>174</th>\n      <td>1</td>\n      <td>BT12 7LX</td>\n      <td>3.0</td>\n      <td>739.08</td>\n      <td>1</td>\n      <td>99950.0</td>\n      <td>BT12</td>\n      <td>66 Beechmount Parade</td>\n      <td>Terrace House</td>\n      <td>NorthernProperty.com</td>\n      <td>West</td>\n      <td>BT12 7LX</td>\n      <td>54.592948</td>\n      <td>-5.966780</td>\n    </tr>\n    <tr>\n      <th>175</th>\n      <td>1</td>\n      <td>BT12 4AG</td>\n      <td>3.0</td>\n      <td>717.34</td>\n      <td>1</td>\n      <td>114950.0</td>\n      <td>BT12</td>\n      <td>43 John Street</td>\n      <td>Terrace House</td>\n      <td>NorthernProperty.com</td>\n      <td>West</td>\n      <td>BT12 4AG</td>\n      <td>54.598849</td>\n      <td>-5.937439</td>\n    </tr>\n    <tr>\n      <th>...</th>\n      <td>...</td>\n      <td>...</td>\n      <td>...</td>\n      <td>...</td>\n      <td>...</td>\n      <td>...</td>\n      <td>...</td>\n      <td>...</td>\n      <td>...</td>\n      <td>...</td>\n      <td>...</td>\n      <td>...</td>\n      <td>...</td>\n      <td>...</td>\n    </tr>\n    <tr>\n      <th>734</th>\n      <td>1</td>\n      <td>BT11 9AQ</td>\n      <td>3.0</td>\n      <td>695.60</td>\n      <td>1</td>\n      <td>119950.0</td>\n      <td>BT11</td>\n      <td>181 Stockmans Lane</td>\n      <td>Terrace House</td>\n      <td>NorthernProperty.com</td>\n      <td>West</td>\n      <td>BT11 9AQ</td>\n      <td>54.574049</td>\n      <td>-5.979939</td>\n    </tr>\n    <tr>\n      <th>735</th>\n      <td>1</td>\n      <td>BT11 9AQ</td>\n      <td>3.0</td>\n      <td>695.60</td>\n      <td>1</td>\n      <td>129950.0</td>\n      <td>BT11</td>\n      <td>179 Stockmans Lane</td>\n      <td>Terrace House</td>\n      <td>Ulster Property Sales</td>\n      <td>West</td>\n      <td>BT11 9AQ</td>\n      <td>54.574049</td>\n      <td>-5.979939</td>\n    </tr>\n    <tr>\n      <th>736</th>\n      <td>1</td>\n      <td>BT11 8NB</td>\n      <td>2.0</td>\n      <td>782.55</td>\n      <td>1</td>\n      <td>169950.0</td>\n      <td>BT11</td>\n      <td>19 Tullagh Park</td>\n      <td>Terrace House</td>\n      <td>Ulster Property Sales</td>\n      <td>West</td>\n      <td>BT11 8NB</td>\n      <td>54.577411</td>\n      <td>-6.003886</td>\n    </tr>\n    <tr>\n      <th>737</th>\n      <td>1</td>\n      <td>BT11 8QU</td>\n      <td>2.0</td>\n      <td>1086.88</td>\n      <td>1</td>\n      <td>179950.0</td>\n      <td>BT11</td>\n      <td>6 Airfield Heights</td>\n      <td>Terrace House</td>\n      <td>McGranaghan Estate Agents.com</td>\n      <td>West</td>\n      <td>BT11 8QU</td>\n      <td>54.581533</td>\n      <td>-5.998629</td>\n    </tr>\n    <tr>\n      <th>738</th>\n      <td>1</td>\n      <td>BT11 8LT</td>\n      <td>2.0</td>\n      <td>869.50</td>\n      <td>1</td>\n      <td>149950.0</td>\n      <td>BT11</td>\n      <td>15 Edenmore Drive</td>\n      <td>Terrace House</td>\n      <td>Ulster Property Sales</td>\n      <td>West</td>\n      <td>BT11 8LT</td>\n      <td>54.575733</td>\n      <td>-5.999409</td>\n    </tr>\n  </tbody>\n</table>\n<p>222 rows × 14 columns</p>\n</div>"
     },
     "execution_count": 61,
     "metadata": {},
     "output_type": "execute_result"
    }
   ],
   "source": [
    "terrace_df"
   ],
   "metadata": {
    "collapsed": false,
    "ExecuteTime": {
     "end_time": "2023-11-20T15:40:06.703518100Z",
     "start_time": "2023-11-20T15:40:06.652154800Z"
    }
   }
  },
  {
   "cell_type": "code",
   "execution_count": 75,
   "outputs": [
    {
     "data": {
      "text/plain": "                  Bedrooms  Price (£)   Rates  No. of Houses\nBelfast District                                            \nEast                   2.8   121214.2   698.9             53\nNorth                  4.1   129623.4   609.5             32\nNorth-West             2.8   110187.9   607.5             29\nSouth                  2.6   165095.7  1164.2             47\nSouth-East             2.6   124261.1   736.7             18\nSouth/South-West       3.4   125870.0   687.1             10\nWest                   2.8   113954.5   725.6             33",
      "text/html": "<div>\n<style scoped>\n    .dataframe tbody tr th:only-of-type {\n        vertical-align: middle;\n    }\n\n    .dataframe tbody tr th {\n        vertical-align: top;\n    }\n\n    .dataframe thead th {\n        text-align: right;\n    }\n</style>\n<table border=\"1\" class=\"dataframe\">\n  <thead>\n    <tr style=\"text-align: right;\">\n      <th></th>\n      <th>Bedrooms</th>\n      <th>Price (£)</th>\n      <th>Rates</th>\n      <th>No. of Houses</th>\n    </tr>\n    <tr>\n      <th>Belfast District</th>\n      <th></th>\n      <th></th>\n      <th></th>\n      <th></th>\n    </tr>\n  </thead>\n  <tbody>\n    <tr>\n      <th>East</th>\n      <td>2.8</td>\n      <td>121214.2</td>\n      <td>698.9</td>\n      <td>53</td>\n    </tr>\n    <tr>\n      <th>North</th>\n      <td>4.1</td>\n      <td>129623.4</td>\n      <td>609.5</td>\n      <td>32</td>\n    </tr>\n    <tr>\n      <th>North-West</th>\n      <td>2.8</td>\n      <td>110187.9</td>\n      <td>607.5</td>\n      <td>29</td>\n    </tr>\n    <tr>\n      <th>South</th>\n      <td>2.6</td>\n      <td>165095.7</td>\n      <td>1164.2</td>\n      <td>47</td>\n    </tr>\n    <tr>\n      <th>South-East</th>\n      <td>2.6</td>\n      <td>124261.1</td>\n      <td>736.7</td>\n      <td>18</td>\n    </tr>\n    <tr>\n      <th>South/South-West</th>\n      <td>3.4</td>\n      <td>125870.0</td>\n      <td>687.1</td>\n      <td>10</td>\n    </tr>\n    <tr>\n      <th>West</th>\n      <td>2.8</td>\n      <td>113954.5</td>\n      <td>725.6</td>\n      <td>33</td>\n    </tr>\n  </tbody>\n</table>\n</div>"
     },
     "execution_count": 75,
     "metadata": {},
     "output_type": "execute_result"
    }
   ],
   "source": [
    "terrace_analysis_df = terrace_df.groupby('Belfast District').agg({\n",
    "    'Bedrooms': 'mean',\n",
    "    'Price (£)': 'mean',\n",
    "    'Rates': 'mean',\n",
    "    'Address': 'count'\n",
    "}).round(1)\n",
    "\n",
    "terrace_analysis_df.rename(columns={'Address':'No. of Houses'}, inplace=True)\n",
    "terrace_analysis_df"
   ],
   "metadata": {
    "collapsed": false,
    "ExecuteTime": {
     "end_time": "2023-11-20T15:51:19.362517600Z",
     "start_time": "2023-11-20T15:51:19.333795600Z"
    }
   }
  },
  {
   "cell_type": "markdown",
   "source": [
    "# Based on these results we can see that Terrace houses in North Belfast have the highest average number of bedrooms, South Belfast has both the highest average price and average Rates. I also included the number of houses within each district to ensure the data wasn't bias. Lets move on to look at the different detached homes in Belfast."
   ],
   "metadata": {
    "collapsed": false
   }
  },
  {
   "cell_type": "code",
   "execution_count": 78,
   "outputs": [
    {
     "data": {
      "text/plain": "<Figure size 1000x600 with 1 Axes>",
      "image/png": "[encoded data removed]"
     },
     "metadata": {},
     "output_type": "display_data"
    }
   ],
   "source": [
    "# Set the style of seaborn\n",
    "sns.set(style=\"whitegrid\")\n",
    "\n",
    "# Create a bar plot\n",
    "plt.figure(figsize=(10, 6))\n",
    "sns.barplot(x='Belfast District', y='Bedrooms', data=df, color='blue', label='Average Bedrooms')\n",
    "sns.barplot(x='Belfast District', y='Price (£)', data=df, color='orange', label='Average Price')\n",
    "\n",
    "# Add labels and title\n",
    "plt.xlabel('Belfast District')\n",
    "plt.ylabel('Values')\n",
    "plt.title('Average Bedrooms and Prices by District')\n",
    "plt.legend()\n",
    "\n",
    "# Show the plot\n",
    "plt.show()"
   ],
   "metadata": {
    "collapsed": false,
    "ExecuteTime": {
     "end_time": "2023-11-20T15:59:08.972732800Z",
     "start_time": "2023-11-20T15:59:08.197991400Z"
    }
   }
  },
  {
   "cell_type": "code",
   "execution_count": 90,
   "outputs": [
    {
     "data": {
      "text/plain": "                                     Price (£)                      Address\n                                           min    median        max   count\nBelfast District Style                                                     \nCentral          Apartment            125000.0  165000.0   315000.0      15\nEast             Apartment            104950.0  135000.0   199950.0      21\n                 Detached House       245000.0  399950.0   675000.0      41\n                 Semi-detached House  145000.0  220000.0   375000.0      56\n                 Terrace House         89950.0  117500.0   195000.0      53\n                 Townhouse            145000.0  175000.0   215000.0       5\nNorth            Apartment             89950.0   99950.0   155000.0      12\n                 Bungalow             324950.0  324950.0   324950.0       1\n                 Detached House       264950.0  359950.0   650000.0      19\n                 Semi-detached House   98950.0  152450.0   264950.0      26\n                 Terrace House         69950.0  127450.0   185000.0      32\n                 Townhouse            115000.0  199950.0   199950.0       3\nNorth-East       Apartment            139950.0  215000.0   250000.0       8\nNorth-West       Apartment             70000.0   87450.0   130000.0       6\n                 Detached House       210000.0  245000.0   275000.0       9\n                 Semi-detached House  109950.0  155000.0   204950.0      27\n                 Terrace House         84950.0  109950.0   174950.0      29\n                 Townhouse            119950.0  119950.0   119950.0       1\nSouth            Apartment            105000.0  171975.0   300000.0      54\n                 Bungalow             215000.0  355000.0   775000.0      10\n                 Detached House       279950.0  550000.0  1685000.0      41\n                 Semi-detached House  160000.0  230000.0   695000.0      47\n                 Terrace House        115000.0  164950.0   249950.0      47\n                 Townhouse            169000.0  245000.0   545000.0      17\nSouth-East       Apartment             95000.0  125000.0   147500.0       9\n                 Bungalow             250000.0  250000.0   250000.0       1\n                 Detached House       249950.0  397475.0   399950.0       4\n                 Semi-detached House  174950.0  204750.0   315000.0      26\n                 Terrace House        113000.0  125000.0   140000.0      18\n                 Townhouse            144950.0  185000.0   265000.0       4\nSouth/South-West Apartment             75000.0  100000.0   174950.0      11\n                 Bungalow             325000.0  362475.0   399950.0       2\n                 Detached House       229950.0  294950.0   565000.0      12\n                 Semi-detached House  149950.0  179950.0   265000.0      15\n                 Terrace House        109500.0  127475.0   139950.0      10\n                 Townhouse            185000.0  198725.0   239950.0       4\nWest             Apartment             79950.0   97450.0   165000.0      10\n                 Semi-detached House  130000.0  177450.0   215000.0      10\n                 Terrace House         90000.0  109950.0   179950.0      33\n                 Townhouse            129950.0  129950.0   129950.0       1",
      "text/html": "<div>\n<style scoped>\n    .dataframe tbody tr th:only-of-type {\n        vertical-align: middle;\n    }\n\n    .dataframe tbody tr th {\n        vertical-align: top;\n    }\n\n    .dataframe thead tr th {\n        text-align: left;\n    }\n\n    .dataframe thead tr:last-of-type th {\n        text-align: right;\n    }\n</style>\n<table border=\"1\" class=\"dataframe\">\n  <thead>\n    <tr>\n      <th></th>\n      <th></th>\n      <th colspan=\"3\" halign=\"left\">Price (£)</th>\n      <th>Address</th>\n    </tr>\n    <tr>\n      <th></th>\n      <th></th>\n      <th>min</th>\n      <th>median</th>\n      <th>max</th>\n      <th>count</th>\n    </tr>\n    <tr>\n      <th>Belfast District</th>\n      <th>Style</th>\n      <th></th>\n      <th></th>\n      <th></th>\n      <th></th>\n    </tr>\n  </thead>\n  <tbody>\n    <tr>\n      <th>Central</th>\n      <th>Apartment</th>\n      <td>125000.0</td>\n      <td>165000.0</td>\n      <td>315000.0</td>\n      <td>15</td>\n    </tr>\n    <tr>\n      <th rowspan=\"5\" valign=\"top\">East</th>\n      <th>Apartment</th>\n      <td>104950.0</td>\n      <td>135000.0</td>\n      <td>199950.0</td>\n      <td>21</td>\n    </tr>\n    <tr>\n      <th>Detached House</th>\n      <td>245000.0</td>\n      <td>399950.0</td>\n      <td>675000.0</td>\n      <td>41</td>\n    </tr>\n    <tr>\n      <th>Semi-detached House</th>\n      <td>145000.0</td>\n      <td>220000.0</td>\n      <td>375000.0</td>\n      <td>56</td>\n    </tr>\n    <tr>\n      <th>Terrace House</th>\n      <td>89950.0</td>\n      <td>117500.0</td>\n      <td>195000.0</td>\n      <td>53</td>\n    </tr>\n    <tr>\n      <th>Townhouse</th>\n      <td>145000.0</td>\n      <td>175000.0</td>\n      <td>215000.0</td>\n      <td>5</td>\n    </tr>\n    <tr>\n      <th rowspan=\"6\" valign=\"top\">North</th>\n      <th>Apartment</th>\n      <td>89950.0</td>\n      <td>99950.0</td>\n      <td>155000.0</td>\n      <td>12</td>\n    </tr>\n    <tr>\n      <th>Bungalow</th>\n      <td>324950.0</td>\n      <td>324950.0</td>\n      <td>324950.0</td>\n      <td>1</td>\n    </tr>\n    <tr>\n      <th>Detached House</th>\n      <td>264950.0</td>\n      <td>359950.0</td>\n      <td>650000.0</td>\n      <td>19</td>\n    </tr>\n    <tr>\n      <th>Semi-detached House</th>\n      <td>98950.0</td>\n      <td>152450.0</td>\n      <td>264950.0</td>\n      <td>26</td>\n    </tr>\n    <tr>\n      <th>Terrace House</th>\n      <td>69950.0</td>\n      <td>127450.0</td>\n      <td>185000.0</td>\n      <td>32</td>\n    </tr>\n    <tr>\n      <th>Townhouse</th>\n      <td>115000.0</td>\n      <td>199950.0</td>\n      <td>199950.0</td>\n      <td>3</td>\n    </tr>\n    <tr>\n      <th>North-East</th>\n      <th>Apartment</th>\n      <td>139950.0</td>\n      <td>215000.0</td>\n      <td>250000.0</td>\n      <td>8</td>\n    </tr>\n    <tr>\n      <th rowspan=\"5\" valign=\"top\">North-West</th>\n      <th>Apartment</th>\n      <td>70000.0</td>\n      <td>87450.0</td>\n      <td>130000.0</td>\n      <td>6</td>\n    </tr>\n    <tr>\n      <th>Detached House</th>\n      <td>210000.0</td>\n      <td>245000.0</td>\n      <td>275000.0</td>\n      <td>9</td>\n    </tr>\n    <tr>\n      <th>Semi-detached House</th>\n      <td>109950.0</td>\n      <td>155000.0</td>\n      <td>204950.0</td>\n      <td>27</td>\n    </tr>\n    <tr>\n      <th>Terrace House</th>\n      <td>84950.0</td>\n      <td>109950.0</td>\n      <td>174950.0</td>\n      <td>29</td>\n    </tr>\n    <tr>\n      <th>Townhouse</th>\n      <td>119950.0</td>\n      <td>119950.0</td>\n      <td>119950.0</td>\n      <td>1</td>\n    </tr>\n    <tr>\n      <th rowspan=\"6\" valign=\"top\">South</th>\n      <th>Apartment</th>\n      <td>105000.0</td>\n      <td>171975.0</td>\n      <td>300000.0</td>\n      <td>54</td>\n    </tr>\n    <tr>\n      <th>Bungalow</th>\n      <td>215000.0</td>\n      <td>355000.0</td>\n      <td>775000.0</td>\n      <td>10</td>\n    </tr>\n    <tr>\n      <th>Detached House</th>\n      <td>279950.0</td>\n      <td>550000.0</td>\n      <td>1685000.0</td>\n      <td>41</td>\n    </tr>\n    <tr>\n      <th>Semi-detached House</th>\n      <td>160000.0</td>\n      <td>230000.0</td>\n      <td>695000.0</td>\n      <td>47</td>\n    </tr>\n    <tr>\n      <th>Terrace House</th>\n      <td>115000.0</td>\n      <td>164950.0</td>\n      <td>249950.0</td>\n      <td>47</td>\n    </tr>\n    <tr>\n      <th>Townhouse</th>\n      <td>169000.0</td>\n      <td>245000.0</td>\n      <td>545000.0</td>\n      <td>17</td>\n    </tr>\n    <tr>\n      <th rowspan=\"6\" valign=\"top\">South-East</th>\n      <th>Apartment</th>\n      <td>95000.0</td>\n      <td>125000.0</td>\n      <td>147500.0</td>\n      <td>9</td>\n    </tr>\n    <tr>\n      <th>Bungalow</th>\n      <td>250000.0</td>\n      <td>250000.0</td>\n      <td>250000.0</td>\n      <td>1</td>\n    </tr>\n    <tr>\n      <th>Detached House</th>\n      <td>249950.0</td>\n      <td>397475.0</td>\n      <td>399950.0</td>\n      <td>4</td>\n    </tr>\n    <tr>\n      <th>Semi-detached House</th>\n      <td>174950.0</td>\n      <td>204750.0</td>\n      <td>315000.0</td>\n      <td>26</td>\n    </tr>\n    <tr>\n      <th>Terrace House</th>\n      <td>113000.0</td>\n      <td>125000.0</td>\n      <td>140000.0</td>\n      <td>18</td>\n    </tr>\n    <tr>\n      <th>Townhouse</th>\n      <td>144950.0</td>\n      <td>185000.0</td>\n      <td>265000.0</td>\n      <td>4</td>\n    </tr>\n    <tr>\n      <th rowspan=\"6\" valign=\"top\">South/South-West</th>\n      <th>Apartment</th>\n      <td>75000.0</td>\n      <td>100000.0</td>\n      <td>174950.0</td>\n      <td>11</td>\n    </tr>\n    <tr>\n      <th>Bungalow</th>\n      <td>325000.0</td>\n      <td>362475.0</td>\n      <td>399950.0</td>\n      <td>2</td>\n    </tr>\n    <tr>\n      <th>Detached House</th>\n      <td>229950.0</td>\n      <td>294950.0</td>\n      <td>565000.0</td>\n      <td>12</td>\n    </tr>\n    <tr>\n      <th>Semi-detached House</th>\n      <td>149950.0</td>\n      <td>179950.0</td>\n      <td>265000.0</td>\n      <td>15</td>\n    </tr>\n    <tr>\n      <th>Terrace House</th>\n      <td>109500.0</td>\n      <td>127475.0</td>\n      <td>139950.0</td>\n      <td>10</td>\n    </tr>\n    <tr>\n      <th>Townhouse</th>\n      <td>185000.0</td>\n      <td>198725.0</td>\n      <td>239950.0</td>\n      <td>4</td>\n    </tr>\n    <tr>\n      <th rowspan=\"4\" valign=\"top\">West</th>\n      <th>Apartment</th>\n      <td>79950.0</td>\n      <td>97450.0</td>\n      <td>165000.0</td>\n      <td>10</td>\n    </tr>\n    <tr>\n      <th>Semi-detached House</th>\n      <td>130000.0</td>\n      <td>177450.0</td>\n      <td>215000.0</td>\n      <td>10</td>\n    </tr>\n    <tr>\n      <th>Terrace House</th>\n      <td>90000.0</td>\n      <td>109950.0</td>\n      <td>179950.0</td>\n      <td>33</td>\n    </tr>\n    <tr>\n      <th>Townhouse</th>\n      <td>129950.0</td>\n      <td>129950.0</td>\n      <td>129950.0</td>\n      <td>1</td>\n    </tr>\n  </tbody>\n</table>\n</div>"
     },
     "execution_count": 90,
     "metadata": {},
     "output_type": "execute_result"
    }
   ],
   "source": [
    "merged_df.groupby(['Belfast District','Style']).agg({\n",
    "    'Price (£)': ['min','median', 'max'],\n",
    "    'Address':'count'\n",
    "})"
   ],
   "metadata": {
    "collapsed": false,
    "ExecuteTime": {
     "end_time": "2023-11-21T11:09:31.094567Z",
     "start_time": "2023-11-21T11:09:31.056487200Z"
    }
   }
  }
 ],
 "metadata": {
  "kernelspec": {
   "display_name": "Python 3",
   "language": "python",
   "name": "python3"
  },
  "language_info": {
   "codemirror_mode": {
    "name": "ipython",
    "version": 2
   },
   "file_extension": ".py",
   "mimetype": "text/x-python",
   "name": "python",
   "nbconvert_exporter": "python",
   "pygments_lexer": "ipython2",
   "version": "2.7.6"
  }
 },
 "nbformat": 4,
 "nbformat_minor": 0
}
